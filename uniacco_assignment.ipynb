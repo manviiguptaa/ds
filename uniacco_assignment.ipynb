{
 "cells": [
  {
   "cell_type": "code",
   "execution_count": 3,
   "id": "8dee9562-8a84-47cc-9513-c92a7b917ae9",
   "metadata": {
    "tags": []
   },
   "outputs": [],
   "source": [
    "# Import Libraries\n",
    "# For data visualisation\n",
    "import numpy as np \n",
    "import pandas as pd\n",
    "import matplotlib.pyplot as plt\n",
    "plt.style.use('ggplot')\n",
    "import seaborn as sns\n",
    "%matplotlib inline\n",
    "\n",
    "# For feature engineering ans selection \n",
    "from sklearn.impute import KNNImputer\n",
    "from sklearn.model_selection import train_test_split\n",
    "from sklearn.preprocessing import StandardScaler\n",
    "from sklearn.feature_selection import chi2  #feature selection for classification\n",
    "from sklearn.metrics import recall_score    #to measure model performance\n",
    "\n",
    "# Machine learning model selection and implementation\n",
    "from sklearn.linear_model import LogisticRegression\n",
    "from sklearn.metrics import classification_report\n",
    "from sklearn.neighbors import KNeighborsClassifier\n",
    "from sklearn.naive_bayes import GaussianNB\n",
    "from sklearn.model_selection import GridSearchCV\n",
    "from sklearn.model_selection import RepeatedStratifiedKFold\n",
    "from sklearn.tree import DecisionTreeClassifier\n",
    "from sklearn.svm import SVC\n",
    "from sklearn.ensemble import RandomForestClassifier\n",
    "\n",
    "\n",
    "# Importing classification metrics\n",
    "from sklearn.metrics import confusion_matrix, classification_report, roc_curve\n",
    "from sklearn.metrics import make_scorer, recall_score, f1_score\n",
    "\n",
    "# Ignore warnings\n",
    "import warnings\n",
    "warnings.filterwarnings('ignore')"
   ]
  },
  {
   "cell_type": "code",
   "execution_count": 4,
   "id": "a3f85670-2693-4cd5-b634-1f837a2d5b33",
   "metadata": {
    "tags": []
   },
   "outputs": [],
   "source": [
    "url = \"https://docs.google.com/spreadsheets/d/1rK1CLqpsd6JfSBLk9nRE-f0NzDc9lEXgxZ-cKjxIN_s/export?format=csv\"\n",
    "df = pd.read_csv(url)"
   ]
  },
  {
   "cell_type": "code",
   "execution_count": 5,
   "id": "127781e0-6fad-4777-8848-5771ba018ee1",
   "metadata": {
    "tags": []
   },
   "outputs": [
    {
     "data": {
      "text/html": [
       "<div>\n",
       "<style scoped>\n",
       "    .dataframe tbody tr th:only-of-type {\n",
       "        vertical-align: middle;\n",
       "    }\n",
       "\n",
       "    .dataframe tbody tr th {\n",
       "        vertical-align: top;\n",
       "    }\n",
       "\n",
       "    .dataframe thead th {\n",
       "        text-align: right;\n",
       "    }\n",
       "</style>\n",
       "<table border=\"1\" class=\"dataframe\">\n",
       "  <thead>\n",
       "    <tr style=\"text-align: right;\">\n",
       "      <th></th>\n",
       "      <th>Unnamed: 0</th>\n",
       "      <th>Agent_id</th>\n",
       "      <th>status</th>\n",
       "      <th>lost_reason</th>\n",
       "      <th>budget</th>\n",
       "      <th>lease</th>\n",
       "      <th>movein</th>\n",
       "      <th>source</th>\n",
       "      <th>source_city</th>\n",
       "      <th>source_country</th>\n",
       "      <th>utm_source</th>\n",
       "      <th>utm_medium</th>\n",
       "      <th>des_city</th>\n",
       "      <th>des_country</th>\n",
       "      <th>room_type</th>\n",
       "      <th>lead_id</th>\n",
       "    </tr>\n",
       "  </thead>\n",
       "  <tbody>\n",
       "    <tr>\n",
       "      <th>0</th>\n",
       "      <td>0</td>\n",
       "      <td>1deba9e96f404694373de9749ddd1ca8aa7bb823145a6f...</td>\n",
       "      <td>LOST</td>\n",
       "      <td>Not responding</td>\n",
       "      <td>NaN</td>\n",
       "      <td>NaN</td>\n",
       "      <td>NaN</td>\n",
       "      <td>9b2d5b4678781e53038e91ea5324530a03f27dc1d0e5f6...</td>\n",
       "      <td>9b2d5b4678781e53038e91ea5324530a03f27dc1d0e5f6...</td>\n",
       "      <td>9b2d5b4678781e53038e91ea5324530a03f27dc1d0e5f6...</td>\n",
       "      <td>3d59f7548e1af2151b64135003ce63c0a484c26b9b8b16...</td>\n",
       "      <td>268ad70eb5bc4737a2ae28162cbca30118cc94520e49ef...</td>\n",
       "      <td>ecc0e7dc084f141b29479058967d0bc07dee25d9690a98...</td>\n",
       "      <td>8d23a6e37e0a6431a8f1b43a91026dcff51170a89a6512...</td>\n",
       "      <td>NaN</td>\n",
       "      <td>cd5dc0d9393f3980d11d4ba6f88f8110c2b7a7f7796307...</td>\n",
       "    </tr>\n",
       "    <tr>\n",
       "      <th>1</th>\n",
       "      <td>1</td>\n",
       "      <td>299ae77a4ef350ae0dd37d6bba1c002d03444fb1edb236...</td>\n",
       "      <td>LOST</td>\n",
       "      <td>Low budget</td>\n",
       "      <td>NaN</td>\n",
       "      <td>NaN</td>\n",
       "      <td>NaN</td>\n",
       "      <td>9b2d5b4678781e53038e91ea5324530a03f27dc1d0e5f6...</td>\n",
       "      <td>9b2d5b4678781e53038e91ea5324530a03f27dc1d0e5f6...</td>\n",
       "      <td>9b2d5b4678781e53038e91ea5324530a03f27dc1d0e5f6...</td>\n",
       "      <td>3d59f7548e1af2151b64135003ce63c0a484c26b9b8b16...</td>\n",
       "      <td>268ad70eb5bc4737a2ae28162cbca30118cc94520e49ef...</td>\n",
       "      <td>5372372f3bf5896820cb2819300c3e681820d82c6efc54...</td>\n",
       "      <td>8d23a6e37e0a6431a8f1b43a91026dcff51170a89a6512...</td>\n",
       "      <td>NaN</td>\n",
       "      <td>b94693673a5f7178d1b114e4004ad52377d3244dd24a3d...</td>\n",
       "    </tr>\n",
       "    <tr>\n",
       "      <th>2</th>\n",
       "      <td>2</td>\n",
       "      <td>c213697430c006013012dd2aca82dd9732aa0a1a6bca13...</td>\n",
       "      <td>LOST</td>\n",
       "      <td>Not responding</td>\n",
       "      <td>£121 - £180 Per Week</td>\n",
       "      <td>Full Year Course Stay 40 - 44 weeks</td>\n",
       "      <td>31/08/22</td>\n",
       "      <td>7aae3e886e89fc1187a5c47d6cea1c22998ee610ade1f2...</td>\n",
       "      <td>9b8cc3c63cdf447e463c11544924bf027945cbd29675f7...</td>\n",
       "      <td>e09e10e67812e9d236ad900e5d46b4308fc62f5d69446a...</td>\n",
       "      <td>bbdefa2950f49882f295b1285d4fa9dec45fc4144bfb07...</td>\n",
       "      <td>09076eb7665d1fb9389c7c4517fee0b00e43092eb34821...</td>\n",
       "      <td>11ab03a1a8c367191355c152f39fe28cae5e426fce49ef...</td>\n",
       "      <td>8d23a6e37e0a6431a8f1b43a91026dcff51170a89a6512...</td>\n",
       "      <td>Ensuite</td>\n",
       "      <td>96ea4e2bf04496c044745938c0299c264c3f4ba079e572...</td>\n",
       "    </tr>\n",
       "    <tr>\n",
       "      <th>3</th>\n",
       "      <td>3</td>\n",
       "      <td>eac9815a500f908736d303e23aa227f0957177b0e6756b...</td>\n",
       "      <td>LOST</td>\n",
       "      <td>Low budget</td>\n",
       "      <td>0-0</td>\n",
       "      <td>0</td>\n",
       "      <td>NaN</td>\n",
       "      <td>ba2d0a29556ac20f86f45e4543c0825428cba33fd7a9ea...</td>\n",
       "      <td>a5f0d2d08eb0592087e3a3a2f9c1ba2c67cc30f2efd2bd...</td>\n",
       "      <td>e09e10e67812e9d236ad900e5d46b4308fc62f5d69446a...</td>\n",
       "      <td>bbdefa2950f49882f295b1285d4fa9dec45fc4144bfb07...</td>\n",
       "      <td>09076eb7665d1fb9389c7c4517fee0b00e43092eb34821...</td>\n",
       "      <td>19372fa44c57a01c37a5a8418779ca3d99b0b59731fb35...</td>\n",
       "      <td>8d23a6e37e0a6431a8f1b43a91026dcff51170a89a6512...</td>\n",
       "      <td>NaN</td>\n",
       "      <td>1d2b34d8add02a182a4129023766ca4585a8ddced0e5b3...</td>\n",
       "    </tr>\n",
       "    <tr>\n",
       "      <th>4</th>\n",
       "      <td>4</td>\n",
       "      <td>1deba9e96f404694373de9749ddd1ca8aa7bb823145a6f...</td>\n",
       "      <td>LOST</td>\n",
       "      <td>Junk lead</td>\n",
       "      <td>NaN</td>\n",
       "      <td>NaN</td>\n",
       "      <td>NaN</td>\n",
       "      <td>9b2d5b4678781e53038e91ea5324530a03f27dc1d0e5f6...</td>\n",
       "      <td>9b2d5b4678781e53038e91ea5324530a03f27dc1d0e5f6...</td>\n",
       "      <td>9b2d5b4678781e53038e91ea5324530a03f27dc1d0e5f6...</td>\n",
       "      <td>3d59f7548e1af2151b64135003ce63c0a484c26b9b8b16...</td>\n",
       "      <td>268ad70eb5bc4737a2ae28162cbca30118cc94520e49ef...</td>\n",
       "      <td>9b2d5b4678781e53038e91ea5324530a03f27dc1d0e5f6...</td>\n",
       "      <td>9b2d5b4678781e53038e91ea5324530a03f27dc1d0e5f6...</td>\n",
       "      <td>NaN</td>\n",
       "      <td>fc10fffd29cfbe93c55158fb47752a7501c211d253468c...</td>\n",
       "    </tr>\n",
       "  </tbody>\n",
       "</table>\n",
       "</div>"
      ],
      "text/plain": [
       "   Unnamed: 0                                           Agent_id status  \\\n",
       "0           0  1deba9e96f404694373de9749ddd1ca8aa7bb823145a6f...   LOST   \n",
       "1           1  299ae77a4ef350ae0dd37d6bba1c002d03444fb1edb236...   LOST   \n",
       "2           2  c213697430c006013012dd2aca82dd9732aa0a1a6bca13...   LOST   \n",
       "3           3  eac9815a500f908736d303e23aa227f0957177b0e6756b...   LOST   \n",
       "4           4  1deba9e96f404694373de9749ddd1ca8aa7bb823145a6f...   LOST   \n",
       "\n",
       "      lost_reason                budget                                lease  \\\n",
       "0  Not responding                   NaN                                  NaN   \n",
       "1      Low budget                   NaN                                  NaN   \n",
       "2  Not responding  £121 - £180 Per Week  Full Year Course Stay 40 - 44 weeks   \n",
       "3      Low budget                   0-0                                    0   \n",
       "4       Junk lead                   NaN                                  NaN   \n",
       "\n",
       "     movein                                             source  \\\n",
       "0       NaN  9b2d5b4678781e53038e91ea5324530a03f27dc1d0e5f6...   \n",
       "1       NaN  9b2d5b4678781e53038e91ea5324530a03f27dc1d0e5f6...   \n",
       "2  31/08/22  7aae3e886e89fc1187a5c47d6cea1c22998ee610ade1f2...   \n",
       "3       NaN  ba2d0a29556ac20f86f45e4543c0825428cba33fd7a9ea...   \n",
       "4       NaN  9b2d5b4678781e53038e91ea5324530a03f27dc1d0e5f6...   \n",
       "\n",
       "                                         source_city  \\\n",
       "0  9b2d5b4678781e53038e91ea5324530a03f27dc1d0e5f6...   \n",
       "1  9b2d5b4678781e53038e91ea5324530a03f27dc1d0e5f6...   \n",
       "2  9b8cc3c63cdf447e463c11544924bf027945cbd29675f7...   \n",
       "3  a5f0d2d08eb0592087e3a3a2f9c1ba2c67cc30f2efd2bd...   \n",
       "4  9b2d5b4678781e53038e91ea5324530a03f27dc1d0e5f6...   \n",
       "\n",
       "                                      source_country  \\\n",
       "0  9b2d5b4678781e53038e91ea5324530a03f27dc1d0e5f6...   \n",
       "1  9b2d5b4678781e53038e91ea5324530a03f27dc1d0e5f6...   \n",
       "2  e09e10e67812e9d236ad900e5d46b4308fc62f5d69446a...   \n",
       "3  e09e10e67812e9d236ad900e5d46b4308fc62f5d69446a...   \n",
       "4  9b2d5b4678781e53038e91ea5324530a03f27dc1d0e5f6...   \n",
       "\n",
       "                                          utm_source  \\\n",
       "0  3d59f7548e1af2151b64135003ce63c0a484c26b9b8b16...   \n",
       "1  3d59f7548e1af2151b64135003ce63c0a484c26b9b8b16...   \n",
       "2  bbdefa2950f49882f295b1285d4fa9dec45fc4144bfb07...   \n",
       "3  bbdefa2950f49882f295b1285d4fa9dec45fc4144bfb07...   \n",
       "4  3d59f7548e1af2151b64135003ce63c0a484c26b9b8b16...   \n",
       "\n",
       "                                          utm_medium  \\\n",
       "0  268ad70eb5bc4737a2ae28162cbca30118cc94520e49ef...   \n",
       "1  268ad70eb5bc4737a2ae28162cbca30118cc94520e49ef...   \n",
       "2  09076eb7665d1fb9389c7c4517fee0b00e43092eb34821...   \n",
       "3  09076eb7665d1fb9389c7c4517fee0b00e43092eb34821...   \n",
       "4  268ad70eb5bc4737a2ae28162cbca30118cc94520e49ef...   \n",
       "\n",
       "                                            des_city  \\\n",
       "0  ecc0e7dc084f141b29479058967d0bc07dee25d9690a98...   \n",
       "1  5372372f3bf5896820cb2819300c3e681820d82c6efc54...   \n",
       "2  11ab03a1a8c367191355c152f39fe28cae5e426fce49ef...   \n",
       "3  19372fa44c57a01c37a5a8418779ca3d99b0b59731fb35...   \n",
       "4  9b2d5b4678781e53038e91ea5324530a03f27dc1d0e5f6...   \n",
       "\n",
       "                                         des_country room_type  \\\n",
       "0  8d23a6e37e0a6431a8f1b43a91026dcff51170a89a6512...       NaN   \n",
       "1  8d23a6e37e0a6431a8f1b43a91026dcff51170a89a6512...       NaN   \n",
       "2  8d23a6e37e0a6431a8f1b43a91026dcff51170a89a6512...   Ensuite   \n",
       "3  8d23a6e37e0a6431a8f1b43a91026dcff51170a89a6512...       NaN   \n",
       "4  9b2d5b4678781e53038e91ea5324530a03f27dc1d0e5f6...       NaN   \n",
       "\n",
       "                                             lead_id  \n",
       "0  cd5dc0d9393f3980d11d4ba6f88f8110c2b7a7f7796307...  \n",
       "1  b94693673a5f7178d1b114e4004ad52377d3244dd24a3d...  \n",
       "2  96ea4e2bf04496c044745938c0299c264c3f4ba079e572...  \n",
       "3  1d2b34d8add02a182a4129023766ca4585a8ddced0e5b3...  \n",
       "4  fc10fffd29cfbe93c55158fb47752a7501c211d253468c...  "
      ]
     },
     "execution_count": 5,
     "metadata": {},
     "output_type": "execute_result"
    }
   ],
   "source": [
    "df.head()\n"
   ]
  },
  {
   "cell_type": "code",
   "execution_count": 6,
   "id": "04d4d316-4387-4730-a2ef-e8dfd997a9dc",
   "metadata": {
    "tags": []
   },
   "outputs": [
    {
     "name": "stdout",
     "output_type": "stream",
     "text": [
      "Lead Scoring Dataset: Rows= 46608, Columns= 16\n"
     ]
    }
   ],
   "source": [
    "print(f\"Lead Scoring Dataset: Rows= {df.shape[0]}, Columns= {df.shape[1]}\")\n"
   ]
  },
  {
   "cell_type": "code",
   "execution_count": 7,
   "id": "2e02f0f9-5d1b-459a-a66b-f873982c3ea0",
   "metadata": {
    "tags": []
   },
   "outputs": [
    {
     "name": "stdout",
     "output_type": "stream",
     "text": [
      "<class 'pandas.core.frame.DataFrame'>\n",
      "RangeIndex: 46608 entries, 0 to 46607\n",
      "Data columns (total 16 columns):\n",
      " #   Column          Non-Null Count  Dtype \n",
      "---  ------          --------------  ----- \n",
      " 0   Unnamed: 0      46608 non-null  int64 \n",
      " 1   Agent_id        46608 non-null  object\n",
      " 2   status          46608 non-null  object\n",
      " 3   lost_reason     43244 non-null  object\n",
      " 4   budget          42908 non-null  object\n",
      " 5   lease           44267 non-null  object\n",
      " 6   movein          32970 non-null  object\n",
      " 7   source          46608 non-null  object\n",
      " 8   source_city     46608 non-null  object\n",
      " 9   source_country  46608 non-null  object\n",
      " 10  utm_source      46608 non-null  object\n",
      " 11  utm_medium      46608 non-null  object\n",
      " 12  des_city        46608 non-null  object\n",
      " 13  des_country     46608 non-null  object\n",
      " 14  room_type       23061 non-null  object\n",
      " 15  lead_id         46608 non-null  object\n",
      "dtypes: int64(1), object(15)\n",
      "memory usage: 5.7+ MB\n"
     ]
    }
   ],
   "source": [
    "df.info()\n"
   ]
  },
  {
   "cell_type": "code",
   "execution_count": 8,
   "id": "20e93a82-e52d-4ffd-8a97-e66609d37371",
   "metadata": {
    "tags": []
   },
   "outputs": [
    {
     "name": "stdout",
     "output_type": "stream",
     "text": [
      "The total number of duplicated observations in the dataset: 0\n"
     ]
    }
   ],
   "source": [
    "print(f\"The total number of duplicated observations in the dataset: {df.duplicated().sum()}\")\n"
   ]
  },
  {
   "cell_type": "code",
   "execution_count": 9,
   "id": "7bb53f34-f87c-4161-9191-a26f3d0501d9",
   "metadata": {
    "tags": []
   },
   "outputs": [],
   "source": [
    "df.drop_duplicates(keep='first',inplace=True)\n"
   ]
  },
  {
   "cell_type": "code",
   "execution_count": 10,
   "id": "1fc8b506-a332-414f-9fd6-e4ca4ca36dd2",
   "metadata": {
    "tags": []
   },
   "outputs": [
    {
     "name": "stdout",
     "output_type": "stream",
     "text": [
      "The total number of duplicated observations in the dataset: 0\n"
     ]
    }
   ],
   "source": [
    "print(f\"The total number of duplicated observations in the dataset: {df.duplicated().sum()}\")\n"
   ]
  },
  {
   "cell_type": "code",
   "execution_count": 11,
   "id": "23acbd9a-7199-4c95-82fe-7b8965a6e2cb",
   "metadata": {
    "tags": []
   },
   "outputs": [],
   "source": [
    "for i in df.columns:\n",
    "  df[i].replace(to_replace={\"9b2d5b4678781e53038e91ea5324530a03f27dc1d0e5f6c9bc9d493a23be9de0\":np.nan}, inplace=True)"
   ]
  },
  {
   "cell_type": "code",
   "execution_count": 12,
   "id": "b8ac5102-9b2b-4f53-b70a-b3d90c22dc2c",
   "metadata": {
    "tags": []
   },
   "outputs": [
    {
     "name": "stdout",
     "output_type": "stream",
     "text": [
      "--------------------------------------------------\n",
      "Null value count in each of the variable: \n",
      "--------------------------------------------------\n",
      "Unnamed: 0            0\n",
      "Agent_id              0\n",
      "status                0\n",
      "lost_reason        3364\n",
      "budget             3700\n",
      "lease              2341\n",
      "movein            13638\n",
      "source             5977\n",
      "source_city        8851\n",
      "source_country     8641\n",
      "utm_source           61\n",
      "utm_medium         3187\n",
      "des_city           2537\n",
      "des_country        2537\n",
      "room_type         23547\n",
      "lead_id               0\n",
      "dtype: int64\n",
      "--------------------------------------------------\n",
      "Percentage of null values in each variable: \n",
      "--------------------------------------------------\n",
      "Unnamed: 0         0.000000\n",
      "Agent_id           0.000000\n",
      "status             0.000000\n",
      "lost_reason        7.217645\n",
      "budget             7.938551\n",
      "lease              5.022743\n",
      "movein            29.261071\n",
      "source            12.823979\n",
      "source_city       18.990302\n",
      "source_country    18.539736\n",
      "utm_source         0.130879\n",
      "utm_medium         6.837882\n",
      "des_city           5.443272\n",
      "des_country        5.443272\n",
      "room_type         50.521370\n",
      "lead_id            0.000000\n",
      "dtype: float64%\n",
      "--------------------------------------------------\n"
     ]
    }
   ],
   "source": [
    "\n",
    "# Missing Values/Null Values Count\n",
    "print(\"-\"*50)\n",
    "print(\"Null value count in each of the variable: \")\n",
    "print(\"-\"*50)\n",
    "print(df.isna().sum())\n",
    "print(\"-\"*50)\n",
    "\n",
    "# Percentage of null values in each category\n",
    "print(\"Percentage of null values in each variable: \")\n",
    "print(\"-\"*50)\n",
    "null_count_by_variable = df.isnull().sum()/len(df)\n",
    "print(f\"{null_count_by_variable*100}%\")\n",
    "print(\"-\"*50)\n",
    "     "
   ]
  },
  {
   "cell_type": "code",
   "execution_count": 13,
   "id": "e2d2a1cf-a508-4425-badb-b6917f72236e",
   "metadata": {
    "tags": []
   },
   "outputs": [
    {
     "data": {
      "image/png": "[encoded data removed]",
      "text/plain": [
       "<Figure size 1440x432 with 1 Axes>"
      ]
     },
     "metadata": {
      "needs_background": "light"
     },
     "output_type": "display_data"
    }
   ],
   "source": [
    "plt.figure(figsize=(20,6))\n",
    "plots= sns.barplot(x=df.columns,y=df.isna().sum())\n",
    "\n",
    "for bar in plots.patches:\n",
    "      plots.annotate(bar.get_height(),\n",
    "                     (bar.get_x() + bar.get_width() / 2,\n",
    "                      bar.get_height()), ha='center', va='center',\n",
    "                     size=12, xytext=(0, 8),\n",
    "                     textcoords='offset points')\n",
    "plt.show()"
   ]
  },
  {
   "cell_type": "code",
   "execution_count": 14,
   "id": "b17ba185-c72a-4cbe-b611-34d939d19c76",
   "metadata": {
    "tags": []
   },
   "outputs": [
    {
     "name": "stdout",
     "output_type": "stream",
     "text": [
      "Available columns:\n",
      "['Unnamed: 0', 'Agent_id', 'status', 'lost_reason', 'budget', 'lease', 'movein', 'source', 'source_city', 'source_country', 'utm_source', 'utm_medium', 'des_city', 'des_country', 'room_type', 'lead_id']\n"
     ]
    }
   ],
   "source": [
    "print(f\"Available columns:\\n{df.columns.to_list()}\")\n"
   ]
  },
  {
   "cell_type": "code",
   "execution_count": 15,
   "id": "da2798ef-d0ab-4b5f-be94-17acd45e7140",
   "metadata": {
    "tags": []
   },
   "outputs": [
    {
     "data": {
      "text/html": [
       "<div>\n",
       "<style scoped>\n",
       "    .dataframe tbody tr th:only-of-type {\n",
       "        vertical-align: middle;\n",
       "    }\n",
       "\n",
       "    .dataframe tbody tr th {\n",
       "        vertical-align: top;\n",
       "    }\n",
       "\n",
       "    .dataframe thead th {\n",
       "        text-align: right;\n",
       "    }\n",
       "</style>\n",
       "<table border=\"1\" class=\"dataframe\">\n",
       "  <thead>\n",
       "    <tr style=\"text-align: right;\">\n",
       "      <th></th>\n",
       "      <th>count</th>\n",
       "      <th>mean</th>\n",
       "      <th>std</th>\n",
       "      <th>min</th>\n",
       "      <th>25%</th>\n",
       "      <th>50%</th>\n",
       "      <th>75%</th>\n",
       "      <th>max</th>\n",
       "    </tr>\n",
       "  </thead>\n",
       "  <tbody>\n",
       "    <tr>\n",
       "      <th>Unnamed: 0</th>\n",
       "      <td>46608.0</td>\n",
       "      <td>23303.5</td>\n",
       "      <td>13454.71501</td>\n",
       "      <td>0.0</td>\n",
       "      <td>11651.75</td>\n",
       "      <td>23303.5</td>\n",
       "      <td>34955.25</td>\n",
       "      <td>46607.0</td>\n",
       "    </tr>\n",
       "  </tbody>\n",
       "</table>\n",
       "</div>"
      ],
      "text/plain": [
       "              count     mean          std  min       25%      50%       75%  \\\n",
       "Unnamed: 0  46608.0  23303.5  13454.71501  0.0  11651.75  23303.5  34955.25   \n",
       "\n",
       "                max  \n",
       "Unnamed: 0  46607.0  "
      ]
     },
     "execution_count": 15,
     "metadata": {},
     "output_type": "execute_result"
    }
   ],
   "source": [
    "df.describe().T\n"
   ]
  },
  {
   "cell_type": "code",
   "execution_count": 16,
   "id": "24cc5436-b2bd-43ee-b5b7-72e91aa70bd0",
   "metadata": {
    "tags": []
   },
   "outputs": [
    {
     "name": "stdout",
     "output_type": "stream",
     "text": [
      "The number of unique values in: \n",
      "-----------------------------------\n",
      "'Unnamed: 0' : 46608\n",
      "'Agent_id' : 120\n",
      "'status' : 6\n",
      "'lost_reason' : 30\n",
      "'budget' : 1857\n",
      "'lease' : 311\n",
      "'movein' : 477\n",
      "'source' : 682\n",
      "'source_city' : 4335\n",
      "'source_country' : 185\n",
      "'utm_source' : 34\n",
      "'utm_medium' : 63\n",
      "'des_city' : 219\n",
      "'des_country' : 14\n",
      "'room_type' : 5\n",
      "'lead_id' : 30574\n"
     ]
    }
   ],
   "source": [
    "print(f\"The number of unique values in: \")\n",
    "print(\"-\"*35)\n",
    "for i in df.columns:\n",
    "  print(f\"'{i}' : {df[i].nunique()}\")"
   ]
  },
  {
   "cell_type": "code",
   "execution_count": 17,
   "id": "e686bad0-bd4a-428a-9c67-78ee75ead25a",
   "metadata": {
    "tags": []
   },
   "outputs": [
    {
     "name": "stdout",
     "output_type": "stream",
     "text": [
      "Before: (46608, 16)\n",
      "After: (46317, 16)\n"
     ]
    }
   ],
   "source": [
    "df_new= df[(df['status']== 'WON') | (df['status']=='LOST')]\n",
    "\n",
    "# Checking shape\n",
    "print(f\"Before: {df.shape}\")\n",
    "print(f'After: {df_new.shape}')"
   ]
  },
  {
   "cell_type": "code",
   "execution_count": 18,
   "id": "a2167e16-52c2-47f3-9db7-6e8b3382fc1e",
   "metadata": {
    "tags": []
   },
   "outputs": [
    {
     "name": "stdout",
     "output_type": "stream",
     "text": [
      "--------------------------------------------------\n",
      "Null value count in each of the variable: \n",
      "--------------------------------------------------\n",
      "Unnamed: 0            0\n",
      "Agent_id              0\n",
      "status                0\n",
      "lost_reason        3073\n",
      "budget             3694\n",
      "lease              2336\n",
      "movein            13610\n",
      "source             5951\n",
      "source_city        8831\n",
      "source_country     8622\n",
      "utm_source           61\n",
      "utm_medium         3184\n",
      "des_city           2529\n",
      "des_country        2529\n",
      "room_type         23491\n",
      "lead_id               0\n",
      "dtype: int64\n",
      "--------------------------------------------------\n",
      "Percentage of null values in each variable: \n",
      "--------------------------------------------------\n",
      "Unnamed: 0         0.000000\n",
      "Agent_id           0.000000\n",
      "status             0.000000\n",
      "lost_reason        6.593289\n",
      "budget             7.925678\n",
      "lease              5.012015\n",
      "movein            29.200996\n",
      "source            12.768194\n",
      "source_city       18.947391\n",
      "source_country    18.498970\n",
      "utm_source         0.130879\n",
      "utm_medium         6.831445\n",
      "des_city           5.426107\n",
      "des_country        5.426107\n",
      "room_type         50.401219\n",
      "lead_id            0.000000\n",
      "dtype: float64%\n",
      "--------------------------------------------------\n"
     ]
    }
   ],
   "source": [
    "print(\"-\"*50)\n",
    "print(\"Null value count in each of the variable: \")\n",
    "print(\"-\"*50)\n",
    "print(df_new.isna().sum())\n",
    "print(\"-\"*50)\n",
    "\n",
    "# Percentage of null values in each category\n",
    "print(\"Percentage of null values in each variable: \")\n",
    "print(\"-\"*50)\n",
    "null_count_by_variable = df_new.isnull().sum()/len(df)\n",
    "print(f\"{null_count_by_variable*100}%\")\n",
    "print(\"-\"*50)"
   ]
  },
  {
   "cell_type": "code",
   "execution_count": 19,
   "id": "1740e70c-268d-4691-b7ba-3fa96c7022ae",
   "metadata": {
    "tags": []
   },
   "outputs": [
    {
     "name": "stdout",
     "output_type": "stream",
     "text": [
      "19.19813459420947\n",
      "21.05058617786126\n",
      "23.749379277587064\n",
      "66.65587149426776\n",
      "68.01390418204979\n",
      "15.810609495433642\n",
      "91.5236306323812\n"
     ]
    }
   ],
   "source": [
    "\n",
    "print(df_new[\"lost_reason\"].value_counts()[0]*100/df_new['lost_reason'].shape[0])\n",
    "print(df_new[\"budget\"].value_counts()[0]*100/df_new['budget'].shape[0])\n",
    "print(df_new[\"lease\"].value_counts()[0]*100/df_new['lease'].shape[0])\n",
    "print(df_new[\"utm_source\"].value_counts()[0]*100/df_new['utm_source'].shape[0])\n",
    "print(df_new[\"utm_medium\"].value_counts()[0]*100/df_new['utm_medium'].shape[0])\n",
    "print(df_new[\"des_city\"].value_counts()[0]*100/df_new['des_city'].shape[0])\n",
    "print(df_new[\"des_country\"].value_counts()[0]*100/df_new['des_country'].shape[0])"
   ]
  },
  {
   "cell_type": "code",
   "execution_count": 20,
   "id": "f23b11cf-a4e0-4b45-8237-abffe0c35acf",
   "metadata": {
    "tags": []
   },
   "outputs": [
    {
     "name": "stdout",
     "output_type": "stream",
     "text": [
      "5.289634475462573\n",
      "41.220286287972016\n",
      "6.520284128937539\n",
      "40.30269663406525\n"
     ]
    }
   ],
   "source": [
    "\n",
    "print(df_new[\"movein\"].value_counts()[0]*100/df_new['movein'].shape[0])\n",
    "print(df_new[\"source\"].value_counts()[0]*100/df_new['source'].shape[0])\n",
    "print(df_new[\"source_city\"].value_counts()[0]*100/df_new['source_city'].shape[0])\n",
    "print(df_new[\"source_country\"].value_counts()[0]*100/df_new['source_country'].shape[0])"
   ]
  },
  {
   "cell_type": "code",
   "execution_count": 21,
   "id": "cad42e10-e763-4eca-a5a9-e7e1d02ce552",
   "metadata": {
    "tags": []
   },
   "outputs": [
    {
     "name": "stdout",
     "output_type": "stream",
     "text": [
      "0        1\n",
      "31049    1\n",
      "31051    1\n",
      "31052    1\n",
      "31053    1\n",
      "        ..\n",
      "15527    1\n",
      "15528    1\n",
      "15529    1\n",
      "15530    1\n",
      "46607    1\n",
      "Name: Unnamed: 0, Length: 46317, dtype: int64\n",
      "2fca346db656187102ce806ac732e06a62df0dbb2829e511a770556d398e1a6e    8186\n",
      "96ab6152cb421b4d4012a4903c19004608a342a5f7c6671a7828b8ad8d5b9489    1451\n",
      "44864c96fa1c36602f0d045b268981b6cab638a60fc207c89e3bba235f619450    1279\n",
      "fb3e2c0015ad5bcd60d7619ca575a56c15c5d2cd3f01f18e68c4dfaeee585db5    1105\n",
      "eac9815a500f908736d303e23aa227f0957177b0e6756b915a3d3cc3a846b83b    1069\n",
      "                                                                    ... \n",
      "e16d12cd21f38bc8253f65cc5c0bf4932cf1397ba1c60682b2a99049e0e7ceed       1\n",
      "04222ea3e14cb1209b9726defe3efce5196b7afa0a959854a30401be41f4026d       1\n",
      "fb87e6cf60af08595bd9fcf1f006a12f1338cb4480acea383b3b65da10bb9f28       1\n",
      "c904d4c3485db6569c9deb41da845d82056e8843eafba8bc8a90aaa06df96963       1\n",
      "59e19706d51d39f66711c2653cd7eb1291c94d9b55eb14bda74ce4dc636d015a       1\n",
      "Name: Agent_id, Length: 120, dtype: int64\n",
      "LOST    43244\n",
      "WON      3073\n",
      "Name: status, dtype: int64\n",
      "Low availability                  8892\n",
      "Not responding                    7827\n",
      "Not interested                    6449\n",
      "Low budget                        5505\n",
      "Wants private accommodation       2781\n",
      "Short stay                        2264\n",
      "Not a student                     1518\n",
      "Just Enquiring                    1263\n",
      "Inadequate details                 827\n",
      "Semester stay                      817\n",
      "Booked with manager                676\n",
      "Junk lead                          629\n",
      "Booked on campus accommodation     613\n",
      "Supply issue                       538\n",
      "No supply                          534\n",
      "Not serving in that region         411\n",
      "Repeat lead                        394\n",
      "Booked with competitor             356\n",
      "Not going to university            329\n",
      "Distance issue                     219\n",
      "Junk lead/ Just Enquiring          147\n",
      "Lead issue                         127\n",
      "Looking for admission               41\n",
      "Didn't respond in time              35\n",
      "Visa/admission denied               17\n",
      "Guarantor issue                     17\n",
      "Looking for Scholarship              8\n",
      "Looking for loan                     5\n",
      "Underage student                     4\n",
      "Cross sell                           1\n",
      "Name: lost_reason, dtype: int64\n",
      "£60 - £120 Per week     9750\n",
      "£121 - £180 Per Week    8878\n",
      "0-0                     5719\n",
      "£181 - £240 Per Week    2143\n",
      "100                     1509\n",
      "                        ... \n",
      "0-80-100$                  1\n",
      "0-235                      1\n",
      "£120-160 Per Week          1\n",
      "1400 per month             1\n",
      "0-500 PCM                  1\n",
      "Name: budget, Length: 1851, dtype: int64\n",
      "Full Year Course Stay 40 - 44 weeks           11000\n",
      "0                                              7538\n",
      "Complete Education Year Stay 50 - 52 weeks     6451\n",
      "51                                             3952\n",
      "Semester Stay 20 - 24 weeks                    2753\n",
      "                                              ...  \n",
      "36-40 weeks                                       1\n",
      "12 month                                          1\n",
      "44 weeks/51 weeks                                 1\n",
      "full year stayt                                   1\n",
      "78                                                1\n",
      "Name: lease, Length: 311, dtype: int64\n",
      "10/09/22    2450\n",
      "31/08/22    2187\n",
      "01/09/22    2118\n",
      "09/09/22    1563\n",
      "17/09/22    1422\n",
      "            ... \n",
      "26/04/23       1\n",
      "10/06/23       1\n",
      "05/01/24       1\n",
      "06/09/06       1\n",
      "06/06/23       1\n",
      "Name: movein, Length: 469, dtype: int64\n",
      "7aae3e886e89fc1187a5c47d6cea1c22998ee610ade1f2b7c51be879f0c37ca8    19092\n",
      "7bcfca0e9d73371699b0adbf1c691e02108fa64f02f4dbe24a0217f139a9b916     3794\n",
      "ba2d0a29556ac20f86f45e4543c0825428cba33fd7a9eaa29e3f169d2ca43b2b     3586\n",
      "146fb4ecbe78caa24102bbaac12e2559a8c8e32fb116d36e3553a709fce40549     2210\n",
      "d684761c17c11590f6e2525b48141cb2c0c6f2be5df4e229dae06e64c5c41b64     2129\n",
      "                                                                    ...  \n",
      "ab4556b4118e9689282ac334ed94636124b8d4a531e2db6c2623eb0437de1ab2        1\n",
      "ff25c08fc834360514f4fbc6434c2bb381ad04ea984ea86c2a0f5fb6ec94a831        1\n",
      "fde7c38145e98695f302f2eb113737bcf9e6b3b0ec4ab2723f4d6610cc97813f        1\n",
      "f4dd29fa0ded5c9ca30c96015bf8147165bfce38964c3842352d7a013b870ac9        1\n",
      "93bee3e177d17c128e6a6af7b88fd675d7ec729b1a88ae13c582248dfd702378        1\n",
      "Name: source, Length: 682, dtype: int64\n",
      "ecc0e7dc084f141b29479058967d0bc07dee25d9690a98ee4e6fdad5168274d7    3020\n",
      "b384863fa1f6e091164b74219726eee0b9dd47776b91a4dc71fd0516630d21ec    1431\n",
      "9f2ba6981e36ea0fca6c16f42e6413d788d2a7499b8b7f418c5d76f12d191f02     854\n",
      "7d1550b844ff586a6023216c06263105eed0a849a2a1f69bb8862ab288d8cdab     752\n",
      "810c069040f6a9b16fdf976a901755508a87cb0224b169d4b5d803357e647947     674\n",
      "                                                                    ... \n",
      "67e6f8c1f6f47e01ab6fe1cbbc3d4115d71f63c6ebf82a8713a6ac04a5b5236c       1\n",
      "c2cedb3b32de2ae419a258d76f4fa82ee302441fbae041acf9a13770dfa18eb0       1\n",
      "e2f36920bce1be5e4c94b165dcbd09cf454f5990d8869c5cc483e0723e34595c       1\n",
      "06065eeea31a9f7eeaf11e335f9a6a67235fc40f12d50b06b84fcbcb5ed70dd2       1\n",
      "d650065b53c2284b98e575d37e1be820599bf33baff5e147770547a984975d2f       1\n",
      "Name: source_city, Length: 4315, dtype: int64\n",
      "e09e10e67812e9d236ad900e5d46b4308fc62f5d69446a9750aa698e797e9c96    18667\n",
      "8da82000ef9c4468ba47362a924b895e40662fed846942a1870a674e5c6d1fc2     6955\n",
      "e39b0c5e88f19053d3a917669bc9d60729f351e064ca0c94f5dc73f4e676333f     2008\n",
      "38fe804a1f9ec032ad876bd7192c1f706e1402831e163cf72702b1f451f40cac      992\n",
      "0207c236c5ad89235d814b1e1807f6fdc1930810439489f76600e1672338e42b      461\n",
      "                                                                    ...  \n",
      "0b6e4801d2a43e3c5dc06d5b68524bd9e80e425610b531d977b5713d59df47b6        1\n",
      "4a89aa60736d863a5fda8aa2305e299e1c3bea690fe4775363fbf2762102b273        1\n",
      "b828c41f8b20d533c028d8a4e1019fe0b16bb14d4b7114a662365d08e89a1bea        1\n",
      "39ae135c41c0e9f97bdbe7449f5320052c6a699cbf0fcbd95dc17f6465f0d34e        1\n",
      "282a5dbb9d8cb1ea0caf847b5aaca66cf1a76b5e57ddbbd2dd7db8204f553c5c        1\n",
      "Name: source_country, Length: 184, dtype: int64\n",
      "bbdefa2950f49882f295b1285d4fa9dec45fc4144bfb07ee6acc68762d12c2e3    30873\n",
      "7f3fa48ca885678134842fa7456f3ece53a97f843b610185d900ac4e467c7490     4752\n",
      "3d59f7548e1af2151b64135003ce63c0a484c26b9b8b166a7b1c1805ec34b00a     1977\n",
      "3c77f261a156a5308fee53720276395ef78d2e7367e4225a3d3d93f4accd1dd3     1741\n",
      "d15690f08a575024650b01ffac892cfd2b93e6c57c140f1b6d9e47753cabd579     1526\n",
      "9ac56ef275bb33f0f931abd846e53e845a80af8a549100741e928b8b2abd56a7     1250\n",
      "ec8202b6f9fb16f9e26b66367afa4e037752f3c09a18cefab426165e06a424b1     1047\n",
      "4f48c17d2a97a7461a12d0d07336f808e70a1248a7082dbb103047f54090c158      864\n",
      "44574c4ba2ea74ad4bf1e184133cdbf4e7390a3690beff6a7364511a70ec208e      547\n",
      "4688fa9ce4f64d0451be91f30a3de24a1c1c41635bd221694b2a96f9ecd8d717      444\n",
      "5ede56738376a8c53a7c99bf275b077a5c10df780a20cf3d8282fd59a2a9fb56      236\n",
      "7edb360f06acaef2cc80dba16cf563f199d347db4443da04da0c8173e3f9e4ed      173\n",
      "3f40462915a3e6026a4d790127b95ded4d870f6ab18d9af2fcbc454168255237      172\n",
      "ce43ccb66a63d70dd24b992aedbea52eee4229a1f21ff5ed31592f33ca411101      169\n",
      "dfc547927d5d24adeba89e786ac0ef05ca3e54ba2ef9474f8aa384129e625d2e      156\n",
      "3e6f3ef30c9311c7086582f5a7f015c3485ba4d2cbccbb059c19122e2c6ea359      132\n",
      "c403c7c6714ba1fb7bd9143d9c6bd1563264a73d8ae0b42c35981083e91fef06       60\n",
      "82244417f956ac7c599f191593f7e441a4fafa20a4158fd52e154f1dc4c8ed92       29\n",
      "5b8eeb90771c2031be0b865d6688c14f7d9dcf7468d8d8d43609cec71358bee9       24\n",
      "ea570171fe0efcf2d84523f065e87c88b5f3a6917f764d0c2e0431a2ae7b5008       21\n",
      "a7a4ded2d5035adb26a222c67032f04cfcd2279ab508cf2a7ff612aead97551e       19\n",
      "c0e25571ed238121c1b1b8ccab09d0008d49655d544048012aba724a68c7ca45       10\n",
      "5f98c624a309a8ec6d3b21d5ec8ce65a77fb168d81c92b66a60ba233121eb2ae        9\n",
      "def53e95f1fc7a2aa7dbc4685f282f1e3e4ea3b364b07622e58edb15d239b252        6\n",
      "4ca9572c7992eb27f83ab631847003d62a2192ecf701de0144dca478ff417063        5\n",
      "924744e8f750495b295e4a6bc44dc51e7fce202af548e8ac8feb8289de90e496        3\n",
      "24e6654bfd1ab85bebb1f721a4be46e6fdb9ea8974d14442d3aaecd1f971fcbb        2\n",
      "7d71fa7a6bd0b0f416e818068a0aceaddc9914df674afae5ebd7dcdf63e73e90        2\n",
      "0eab32ba11e1109468b27cc6230d5dfe340884f0d0d69104e5100e5f89aad44b        2\n",
      "1978e143e8164cab9c00b10bf43b91f67256d0ae9f119058bdbaa9a0bf286758        1\n",
      "a2d2ce979efb493c36afe9cf8c6c95dfe8c831cabd13590d487febceb2229327        1\n",
      "24f353e0da1ced9f24b1226887fdb88cc7a34865e283c921248e8f5d52c3ae68        1\n",
      "3e96141c21704e96af6257ea41c0fc690ce0504c8529dc424dc8b245b6343c0f        1\n",
      "50e721e49c013f00c62cf59f2163542a9d8df02464efeb615d31051b0fddc326        1\n",
      "Name: utm_source, dtype: int64\n",
      "09076eb7665d1fb9389c7c4517fee0b00e43092eb34821b09b5730c41ebcc50c    31502\n",
      "09bc8f0bb77bdddeb98527a39e995c2c605166399c178cb296992abab8415d5b     1757\n",
      "69f81619d0ef92cbb165a44e76f4f0c284d2aa83c318fa7fb632207f68215647     1657\n",
      "268ad70eb5bc4737a2ae28162cbca30118cc94520e49ef1ac5f72c85d3f2caa9     1622\n",
      "82244417f956ac7c599f191593f7e441a4fafa20a4158fd52e154f1dc4c8ed92     1126\n",
      "                                                                    ...  \n",
      "974f37cbfab65a440154a8435e81f1928b6cf003b2885291e7c6fddd530ede65        1\n",
      "6a3aea19761ac8238e4e1d298f15207fe12375f13cb79dfba243aabed36163ca        1\n",
      "ad89c0825db17eb2c0b1a0d1a04f712b1c531ac84a6c92901a7f29e96adae9ce        1\n",
      "511f27cf310544befd3236d40f86ec47f539c4722370acde0f4df8b6616c8553        1\n",
      "5f5238f61f941641a13c52f68a37a1de3e3d981b57506b82aa36d5b85d09c8b7        1\n",
      "Name: utm_medium, Length: 63, dtype: int64\n",
      "ecc0e7dc084f141b29479058967d0bc07dee25d9690a98ee4e6fdad5168274d7    7323\n",
      "810c069040f6a9b16fdf976a901755508a87cb0224b169d4b5d803357e647947    3449\n",
      "11ab03a1a8c367191355c152f39fe28cae5e426fce49efb320230ca4ae3f97a1    3105\n",
      "8593b9db65212160979d946950601c26622a219c80f1f122679eb69ec5b96600    2007\n",
      "6a5ed83658ef85afc77709cc16ede854ad98e3c2ad8b076e10dcbcd6e5096271    1699\n",
      "                                                                    ... \n",
      "6b9031df058346a877deaba0a830b576fa81b9da8692e183e4eb4c9dc949054c       1\n",
      "829228a55ddc193d4f48f1249126cd689365f5f7fe55383ead8afc2b8676de8c       1\n",
      "b9ae62ede2dad179198540d5a84bf5e432f8f36c370d906b9a8224d04582d9d0       1\n",
      "80aa149d3dedd651f836d1071659255aa4843801d79d5df18ddb8d5df1dcf32d       1\n",
      "806b1459b451fcbf14da3e1f61c2e0379e840b0a20badf7f6d4fdc7b3b9329b8       1\n",
      "Name: des_city, Length: 219, dtype: int64\n",
      "8d23a6e37e0a6431a8f1b43a91026dcff51170a89a6512ff098eaa56a4d5fb19    42391\n",
      "02bf1dfa9a0365a86223f0e4ac9eaa0517b06b2e9273790f719feda656a247ae      743\n",
      "80db4ccdca106d37b920206331fcfe3e9e50a9e763d89b54ce3ad5ac8cf30f03      162\n",
      "be55ef3f4c4e6c2d9c2afe2a33ac90ad0f50d4de7f9163999877e2a9ca5a54f8      149\n",
      "7a1ca4ef7515f7276bae7230545829c27810c9d9e98ab2c06066bee6270d5153      114\n",
      "c1ef40ce0484c698eb4bd27fe56c1e7b68d74f9780ed674210d0e5013dae45e9       77\n",
      "5a9cf672c8be6b5ab9546a2fb49b06dd81a4e364c86ed023898c49d9bb0605dc       57\n",
      "49dca65f362fee401292ed7ada96f96295eab1e589c52e4e66bf4aedda715fdd       26\n",
      "abd149214539d9f222d25de6358735b9fa0efd3956f66102b2c119ae2d9f6348       23\n",
      "8ef41e6f4b07432a0cb4eb7a8774e7a3878fd3e385f49aa09b406768467db228       22\n",
      "4c7de2c3da6dc0ae8f9d13b107718a913859359bd30166d077c867577953865d       17\n",
      "3a386c13d283dc2ebbe2aeffc1ab3930d086b28956930d913d8dc58f34c013b7        4\n",
      "2275583196d791405892aaca0d87743c872f3fc0cf3308a6c3ef82528918aa8a        2\n",
      "dd64913c8b91d76ca27b371f0b86fd30452370469b8cadf4e5a61d41d14e42ec        1\n",
      "Name: des_country, dtype: int64\n",
      "Ensuite         12379\n",
      "Studio           6316\n",
      "Entire Place     4128\n",
      "Non-Ensuite         2\n",
      "Twin-Studio         1\n",
      "Name: room_type, dtype: int64\n",
      "93c256d77b219e1ae23da9b1d016bf5f718d4cfaa216678358782fa5671b4b41    2\n",
      "86c8429c64453252af2de71948cf75573557878d9e1803754a37bdb93089d029    2\n",
      "f83a46abd7ab0c718497ba8b8fae402c2ca342f87fe8d5b3b120751affde3fbe    2\n",
      "b0926d92fade8b9a855f647f68bdf98edadfd5bfefed0d31506e8cd07b5b8c2b    2\n",
      "2a7fe1e905892f1c03e9cb8312b1e6b9c200c92aeb20811c1eafb268507d0a84    2\n",
      "                                                                   ..\n",
      "79eb12972e7d47285c07bcc4f4c2d72b3e3f0b6af4d2b5472570e8c18334a1e4    1\n",
      "87dfcf5471e77980d098ff445701dbada0f6f7bac2fa5e43fa7685ec435040e1    1\n",
      "9fec48b448dd438141de5cb492425b238fda660089e7188c40c362ebf04402d1    1\n",
      "c023c6ad585acc1b7357e554360350bccc5a673b8cdf229b5e77dd4fe2ada055    1\n",
      "7520a8abba2b44d7f37c0ddbe5f7f3d87540b2b7a670e9835c26f93767275d29    1\n",
      "Name: lead_id, Length: 30491, dtype: int64\n"
     ]
    }
   ],
   "source": [
    "\n",
    "for i in df_new.columns:\n",
    "  print(df_new[i].value_counts())"
   ]
  },
  {
   "cell_type": "code",
   "execution_count": 22,
   "id": "25dd3389-402b-42a3-a4da-f4d528d76532",
   "metadata": {
    "tags": []
   },
   "outputs": [
    {
     "data": {
      "text/plain": [
       "23158.5"
      ]
     },
     "execution_count": 22,
     "metadata": {},
     "output_type": "execute_result"
    }
   ],
   "source": [
    "\n",
    "df_new.shape[0]/2"
   ]
  },
  {
   "cell_type": "code",
   "execution_count": 23,
   "id": "a9a6bd10-67bf-4d8b-acfb-585a7b9c703a",
   "metadata": {
    "tags": []
   },
   "outputs": [
    {
     "data": {
      "text/plain": [
       "10/09/22    2450\n",
       "31/08/22    2187\n",
       "01/09/22    2118\n",
       "09/09/22    1563\n",
       "17/09/22    1422\n",
       "            ... \n",
       "26/04/23       1\n",
       "10/06/23       1\n",
       "05/01/24       1\n",
       "06/09/06       1\n",
       "06/06/23       1\n",
       "Name: movein, Length: 469, dtype: int64"
      ]
     },
     "execution_count": 23,
     "metadata": {},
     "output_type": "execute_result"
    }
   ],
   "source": [
    "df_new['movein'].value_counts()\n"
   ]
  },
  {
   "cell_type": "code",
   "execution_count": 24,
   "id": "601c1390-56af-4137-9018-a1884abf5f67",
   "metadata": {
    "tags": []
   },
   "outputs": [
    {
     "data": {
      "text/plain": [
       "Ensuite         12379\n",
       "Studio           6316\n",
       "Entire Place     4128\n",
       "Non-Ensuite         2\n",
       "Twin-Studio         1\n",
       "Name: room_type, dtype: int64"
      ]
     },
     "execution_count": 24,
     "metadata": {},
     "output_type": "execute_result"
    }
   ],
   "source": [
    "df_new['room_type'].value_counts()\n"
   ]
  },
  {
   "cell_type": "code",
   "execution_count": 25,
   "id": "97a10528-9699-4e53-8df3-57e94f50a168",
   "metadata": {},
   "outputs": [
    {
     "data": {
      "text/html": [
       "<div>\n",
       "<style scoped>\n",
       "    .dataframe tbody tr th:only-of-type {\n",
       "        vertical-align: middle;\n",
       "    }\n",
       "\n",
       "    .dataframe tbody tr th {\n",
       "        vertical-align: top;\n",
       "    }\n",
       "\n",
       "    .dataframe thead th {\n",
       "        text-align: right;\n",
       "    }\n",
       "</style>\n",
       "<table border=\"1\" class=\"dataframe\">\n",
       "  <thead>\n",
       "    <tr style=\"text-align: right;\">\n",
       "      <th></th>\n",
       "      <th>Unnamed: 0</th>\n",
       "      <th>Agent_id</th>\n",
       "      <th>status</th>\n",
       "      <th>lost_reason</th>\n",
       "      <th>budget</th>\n",
       "      <th>lease</th>\n",
       "      <th>movein</th>\n",
       "      <th>source</th>\n",
       "      <th>source_city</th>\n",
       "      <th>source_country</th>\n",
       "      <th>utm_source</th>\n",
       "      <th>utm_medium</th>\n",
       "      <th>des_city</th>\n",
       "      <th>des_country</th>\n",
       "      <th>room_type</th>\n",
       "      <th>lead_id</th>\n",
       "    </tr>\n",
       "  </thead>\n",
       "  <tbody>\n",
       "    <tr>\n",
       "      <th>0</th>\n",
       "      <td>0</td>\n",
       "      <td>1deba9e96f404694373de9749ddd1ca8aa7bb823145a6f...</td>\n",
       "      <td>LOST</td>\n",
       "      <td>Not responding</td>\n",
       "      <td>NaN</td>\n",
       "      <td>NaN</td>\n",
       "      <td>NaN</td>\n",
       "      <td>NaN</td>\n",
       "      <td>NaN</td>\n",
       "      <td>NaN</td>\n",
       "      <td>3d59f7548e1af2151b64135003ce63c0a484c26b9b8b16...</td>\n",
       "      <td>268ad70eb5bc4737a2ae28162cbca30118cc94520e49ef...</td>\n",
       "      <td>ecc0e7dc084f141b29479058967d0bc07dee25d9690a98...</td>\n",
       "      <td>8d23a6e37e0a6431a8f1b43a91026dcff51170a89a6512...</td>\n",
       "      <td>NaN</td>\n",
       "      <td>cd5dc0d9393f3980d11d4ba6f88f8110c2b7a7f7796307...</td>\n",
       "    </tr>\n",
       "    <tr>\n",
       "      <th>1</th>\n",
       "      <td>1</td>\n",
       "      <td>299ae77a4ef350ae0dd37d6bba1c002d03444fb1edb236...</td>\n",
       "      <td>LOST</td>\n",
       "      <td>Low budget</td>\n",
       "      <td>NaN</td>\n",
       "      <td>NaN</td>\n",
       "      <td>NaN</td>\n",
       "      <td>NaN</td>\n",
       "      <td>NaN</td>\n",
       "      <td>NaN</td>\n",
       "      <td>3d59f7548e1af2151b64135003ce63c0a484c26b9b8b16...</td>\n",
       "      <td>268ad70eb5bc4737a2ae28162cbca30118cc94520e49ef...</td>\n",
       "      <td>5372372f3bf5896820cb2819300c3e681820d82c6efc54...</td>\n",
       "      <td>8d23a6e37e0a6431a8f1b43a91026dcff51170a89a6512...</td>\n",
       "      <td>NaN</td>\n",
       "      <td>b94693673a5f7178d1b114e4004ad52377d3244dd24a3d...</td>\n",
       "    </tr>\n",
       "    <tr>\n",
       "      <th>2</th>\n",
       "      <td>2</td>\n",
       "      <td>c213697430c006013012dd2aca82dd9732aa0a1a6bca13...</td>\n",
       "      <td>LOST</td>\n",
       "      <td>Not responding</td>\n",
       "      <td>£121 - £180 Per Week</td>\n",
       "      <td>Full Year Course Stay 40 - 44 weeks</td>\n",
       "      <td>31/08/22</td>\n",
       "      <td>7aae3e886e89fc1187a5c47d6cea1c22998ee610ade1f2...</td>\n",
       "      <td>9b8cc3c63cdf447e463c11544924bf027945cbd29675f7...</td>\n",
       "      <td>e09e10e67812e9d236ad900e5d46b4308fc62f5d69446a...</td>\n",
       "      <td>bbdefa2950f49882f295b1285d4fa9dec45fc4144bfb07...</td>\n",
       "      <td>09076eb7665d1fb9389c7c4517fee0b00e43092eb34821...</td>\n",
       "      <td>11ab03a1a8c367191355c152f39fe28cae5e426fce49ef...</td>\n",
       "      <td>8d23a6e37e0a6431a8f1b43a91026dcff51170a89a6512...</td>\n",
       "      <td>Ensuite</td>\n",
       "      <td>96ea4e2bf04496c044745938c0299c264c3f4ba079e572...</td>\n",
       "    </tr>\n",
       "    <tr>\n",
       "      <th>3</th>\n",
       "      <td>3</td>\n",
       "      <td>eac9815a500f908736d303e23aa227f0957177b0e6756b...</td>\n",
       "      <td>LOST</td>\n",
       "      <td>Low budget</td>\n",
       "      <td>0-0</td>\n",
       "      <td>0</td>\n",
       "      <td>NaN</td>\n",
       "      <td>ba2d0a29556ac20f86f45e4543c0825428cba33fd7a9ea...</td>\n",
       "      <td>a5f0d2d08eb0592087e3a3a2f9c1ba2c67cc30f2efd2bd...</td>\n",
       "      <td>e09e10e67812e9d236ad900e5d46b4308fc62f5d69446a...</td>\n",
       "      <td>bbdefa2950f49882f295b1285d4fa9dec45fc4144bfb07...</td>\n",
       "      <td>09076eb7665d1fb9389c7c4517fee0b00e43092eb34821...</td>\n",
       "      <td>19372fa44c57a01c37a5a8418779ca3d99b0b59731fb35...</td>\n",
       "      <td>8d23a6e37e0a6431a8f1b43a91026dcff51170a89a6512...</td>\n",
       "      <td>NaN</td>\n",
       "      <td>1d2b34d8add02a182a4129023766ca4585a8ddced0e5b3...</td>\n",
       "    </tr>\n",
       "    <tr>\n",
       "      <th>4</th>\n",
       "      <td>4</td>\n",
       "      <td>1deba9e96f404694373de9749ddd1ca8aa7bb823145a6f...</td>\n",
       "      <td>LOST</td>\n",
       "      <td>Junk lead</td>\n",
       "      <td>NaN</td>\n",
       "      <td>NaN</td>\n",
       "      <td>NaN</td>\n",
       "      <td>NaN</td>\n",
       "      <td>NaN</td>\n",
       "      <td>NaN</td>\n",
       "      <td>3d59f7548e1af2151b64135003ce63c0a484c26b9b8b16...</td>\n",
       "      <td>268ad70eb5bc4737a2ae28162cbca30118cc94520e49ef...</td>\n",
       "      <td>NaN</td>\n",
       "      <td>NaN</td>\n",
       "      <td>NaN</td>\n",
       "      <td>fc10fffd29cfbe93c55158fb47752a7501c211d253468c...</td>\n",
       "    </tr>\n",
       "  </tbody>\n",
       "</table>\n",
       "</div>"
      ],
      "text/plain": [
       "   Unnamed: 0                                           Agent_id status  \\\n",
       "0           0  1deba9e96f404694373de9749ddd1ca8aa7bb823145a6f...   LOST   \n",
       "1           1  299ae77a4ef350ae0dd37d6bba1c002d03444fb1edb236...   LOST   \n",
       "2           2  c213697430c006013012dd2aca82dd9732aa0a1a6bca13...   LOST   \n",
       "3           3  eac9815a500f908736d303e23aa227f0957177b0e6756b...   LOST   \n",
       "4           4  1deba9e96f404694373de9749ddd1ca8aa7bb823145a6f...   LOST   \n",
       "\n",
       "      lost_reason                budget                                lease  \\\n",
       "0  Not responding                   NaN                                  NaN   \n",
       "1      Low budget                   NaN                                  NaN   \n",
       "2  Not responding  £121 - £180 Per Week  Full Year Course Stay 40 - 44 weeks   \n",
       "3      Low budget                   0-0                                    0   \n",
       "4       Junk lead                   NaN                                  NaN   \n",
       "\n",
       "     movein                                             source  \\\n",
       "0       NaN                                                NaN   \n",
       "1       NaN                                                NaN   \n",
       "2  31/08/22  7aae3e886e89fc1187a5c47d6cea1c22998ee610ade1f2...   \n",
       "3       NaN  ba2d0a29556ac20f86f45e4543c0825428cba33fd7a9ea...   \n",
       "4       NaN                                                NaN   \n",
       "\n",
       "                                         source_city  \\\n",
       "0                                                NaN   \n",
       "1                                                NaN   \n",
       "2  9b8cc3c63cdf447e463c11544924bf027945cbd29675f7...   \n",
       "3  a5f0d2d08eb0592087e3a3a2f9c1ba2c67cc30f2efd2bd...   \n",
       "4                                                NaN   \n",
       "\n",
       "                                      source_country  \\\n",
       "0                                                NaN   \n",
       "1                                                NaN   \n",
       "2  e09e10e67812e9d236ad900e5d46b4308fc62f5d69446a...   \n",
       "3  e09e10e67812e9d236ad900e5d46b4308fc62f5d69446a...   \n",
       "4                                                NaN   \n",
       "\n",
       "                                          utm_source  \\\n",
       "0  3d59f7548e1af2151b64135003ce63c0a484c26b9b8b16...   \n",
       "1  3d59f7548e1af2151b64135003ce63c0a484c26b9b8b16...   \n",
       "2  bbdefa2950f49882f295b1285d4fa9dec45fc4144bfb07...   \n",
       "3  bbdefa2950f49882f295b1285d4fa9dec45fc4144bfb07...   \n",
       "4  3d59f7548e1af2151b64135003ce63c0a484c26b9b8b16...   \n",
       "\n",
       "                                          utm_medium  \\\n",
       "0  268ad70eb5bc4737a2ae28162cbca30118cc94520e49ef...   \n",
       "1  268ad70eb5bc4737a2ae28162cbca30118cc94520e49ef...   \n",
       "2  09076eb7665d1fb9389c7c4517fee0b00e43092eb34821...   \n",
       "3  09076eb7665d1fb9389c7c4517fee0b00e43092eb34821...   \n",
       "4  268ad70eb5bc4737a2ae28162cbca30118cc94520e49ef...   \n",
       "\n",
       "                                            des_city  \\\n",
       "0  ecc0e7dc084f141b29479058967d0bc07dee25d9690a98...   \n",
       "1  5372372f3bf5896820cb2819300c3e681820d82c6efc54...   \n",
       "2  11ab03a1a8c367191355c152f39fe28cae5e426fce49ef...   \n",
       "3  19372fa44c57a01c37a5a8418779ca3d99b0b59731fb35...   \n",
       "4                                                NaN   \n",
       "\n",
       "                                         des_country room_type  \\\n",
       "0  8d23a6e37e0a6431a8f1b43a91026dcff51170a89a6512...       NaN   \n",
       "1  8d23a6e37e0a6431a8f1b43a91026dcff51170a89a6512...       NaN   \n",
       "2  8d23a6e37e0a6431a8f1b43a91026dcff51170a89a6512...   Ensuite   \n",
       "3  8d23a6e37e0a6431a8f1b43a91026dcff51170a89a6512...       NaN   \n",
       "4                                                NaN       NaN   \n",
       "\n",
       "                                             lead_id  \n",
       "0  cd5dc0d9393f3980d11d4ba6f88f8110c2b7a7f7796307...  \n",
       "1  b94693673a5f7178d1b114e4004ad52377d3244dd24a3d...  \n",
       "2  96ea4e2bf04496c044745938c0299c264c3f4ba079e572...  \n",
       "3  1d2b34d8add02a182a4129023766ca4585a8ddced0e5b3...  \n",
       "4  fc10fffd29cfbe93c55158fb47752a7501c211d253468c...  "
      ]
     },
     "execution_count": 25,
     "metadata": {},
     "output_type": "execute_result"
    }
   ],
   "source": [
    "df_new.head()"
   ]
  },
  {
   "cell_type": "code",
   "execution_count": 27,
   "id": "2eb3e8d8-421b-4230-aed9-3e104e1ffa99",
   "metadata": {
    "tags": []
   },
   "outputs": [
    {
     "data": {
      "text/plain": [
       "<seaborn.axisgrid.PairGrid at 0x7f7aabf214b0>"
      ]
     },
     "execution_count": 27,
     "metadata": {},
     "output_type": "execute_result"
    },
    {
     "data": {
      "image/png": "[encoded data removed]",
      "text/plain": [
       "<Figure size 218.75x180 with 2 Axes>"
      ]
     },
     "metadata": {
      "needs_background": "light"
     },
     "output_type": "display_data"
    }
   ],
   "source": [
    "sns.pairplot(df_new, hue=\"status\")"
   ]
  },
  {
   "cell_type": "code",
   "execution_count": 28,
   "id": "4552d926-2c31-4a45-a466-e9f1938980cc",
   "metadata": {
    "tags": []
   },
   "outputs": [],
   "source": [
    "column = df_new.columns"
   ]
  },
  {
   "cell_type": "code",
   "execution_count": 29,
   "id": "1e3035a2-b3a8-472e-9fd5-aa282c205efc",
   "metadata": {
    "tags": []
   },
   "outputs": [
    {
     "data": {
      "text/plain": [
       "Index(['Unnamed: 0', 'Agent_id', 'status', 'lost_reason', 'budget', 'lease',\n",
       "       'movein', 'source', 'source_city', 'source_country', 'utm_source',\n",
       "       'utm_medium', 'des_city', 'des_country', 'room_type', 'lead_id'],\n",
       "      dtype='object')"
      ]
     },
     "execution_count": 29,
     "metadata": {},
     "output_type": "execute_result"
    }
   ],
   "source": [
    "column"
   ]
  },
  {
   "cell_type": "code",
   "execution_count": 30,
   "id": "8d5e4e7c-1c07-4997-8b3b-24c5bda3b42c",
   "metadata": {
    "tags": []
   },
   "outputs": [],
   "source": [
    "y = df_new[['status']]"
   ]
  },
  {
   "cell_type": "code",
   "execution_count": 31,
   "id": "be7fdf84-a8e8-4868-a3f7-44a13e3176ab",
   "metadata": {
    "tags": []
   },
   "outputs": [],
   "source": [
    "column = column.drop('status') "
   ]
  },
  {
   "cell_type": "code",
   "execution_count": 32,
   "id": "399489ca-0c28-48b1-bfdc-4fa18c39ff41",
   "metadata": {
    "tags": []
   },
   "outputs": [],
   "source": [
    "X = df_new[column]"
   ]
  },
  {
   "cell_type": "code",
   "execution_count": 33,
   "id": "d2c287b5-4405-428d-9c96-9d0afb01f4e8",
   "metadata": {
    "tags": []
   },
   "outputs": [
    {
     "data": {
      "text/html": [
       "<div>\n",
       "<style scoped>\n",
       "    .dataframe tbody tr th:only-of-type {\n",
       "        vertical-align: middle;\n",
       "    }\n",
       "\n",
       "    .dataframe tbody tr th {\n",
       "        vertical-align: top;\n",
       "    }\n",
       "\n",
       "    .dataframe thead th {\n",
       "        text-align: right;\n",
       "    }\n",
       "</style>\n",
       "<table border=\"1\" class=\"dataframe\">\n",
       "  <thead>\n",
       "    <tr style=\"text-align: right;\">\n",
       "      <th></th>\n",
       "      <th>Unnamed: 0</th>\n",
       "      <th>Agent_id</th>\n",
       "      <th>lost_reason</th>\n",
       "      <th>budget</th>\n",
       "      <th>lease</th>\n",
       "      <th>movein</th>\n",
       "      <th>source</th>\n",
       "      <th>source_city</th>\n",
       "      <th>source_country</th>\n",
       "      <th>utm_source</th>\n",
       "      <th>utm_medium</th>\n",
       "      <th>des_city</th>\n",
       "      <th>des_country</th>\n",
       "      <th>room_type</th>\n",
       "      <th>lead_id</th>\n",
       "    </tr>\n",
       "  </thead>\n",
       "  <tbody>\n",
       "    <tr>\n",
       "      <th>0</th>\n",
       "      <td>0</td>\n",
       "      <td>1deba9e96f404694373de9749ddd1ca8aa7bb823145a6f...</td>\n",
       "      <td>Not responding</td>\n",
       "      <td>NaN</td>\n",
       "      <td>NaN</td>\n",
       "      <td>NaN</td>\n",
       "      <td>NaN</td>\n",
       "      <td>NaN</td>\n",
       "      <td>NaN</td>\n",
       "      <td>3d59f7548e1af2151b64135003ce63c0a484c26b9b8b16...</td>\n",
       "      <td>268ad70eb5bc4737a2ae28162cbca30118cc94520e49ef...</td>\n",
       "      <td>ecc0e7dc084f141b29479058967d0bc07dee25d9690a98...</td>\n",
       "      <td>8d23a6e37e0a6431a8f1b43a91026dcff51170a89a6512...</td>\n",
       "      <td>NaN</td>\n",
       "      <td>cd5dc0d9393f3980d11d4ba6f88f8110c2b7a7f7796307...</td>\n",
       "    </tr>\n",
       "    <tr>\n",
       "      <th>1</th>\n",
       "      <td>1</td>\n",
       "      <td>299ae77a4ef350ae0dd37d6bba1c002d03444fb1edb236...</td>\n",
       "      <td>Low budget</td>\n",
       "      <td>NaN</td>\n",
       "      <td>NaN</td>\n",
       "      <td>NaN</td>\n",
       "      <td>NaN</td>\n",
       "      <td>NaN</td>\n",
       "      <td>NaN</td>\n",
       "      <td>3d59f7548e1af2151b64135003ce63c0a484c26b9b8b16...</td>\n",
       "      <td>268ad70eb5bc4737a2ae28162cbca30118cc94520e49ef...</td>\n",
       "      <td>5372372f3bf5896820cb2819300c3e681820d82c6efc54...</td>\n",
       "      <td>8d23a6e37e0a6431a8f1b43a91026dcff51170a89a6512...</td>\n",
       "      <td>NaN</td>\n",
       "      <td>b94693673a5f7178d1b114e4004ad52377d3244dd24a3d...</td>\n",
       "    </tr>\n",
       "    <tr>\n",
       "      <th>2</th>\n",
       "      <td>2</td>\n",
       "      <td>c213697430c006013012dd2aca82dd9732aa0a1a6bca13...</td>\n",
       "      <td>Not responding</td>\n",
       "      <td>£121 - £180 Per Week</td>\n",
       "      <td>Full Year Course Stay 40 - 44 weeks</td>\n",
       "      <td>31/08/22</td>\n",
       "      <td>7aae3e886e89fc1187a5c47d6cea1c22998ee610ade1f2...</td>\n",
       "      <td>9b8cc3c63cdf447e463c11544924bf027945cbd29675f7...</td>\n",
       "      <td>e09e10e67812e9d236ad900e5d46b4308fc62f5d69446a...</td>\n",
       "      <td>bbdefa2950f49882f295b1285d4fa9dec45fc4144bfb07...</td>\n",
       "      <td>09076eb7665d1fb9389c7c4517fee0b00e43092eb34821...</td>\n",
       "      <td>11ab03a1a8c367191355c152f39fe28cae5e426fce49ef...</td>\n",
       "      <td>8d23a6e37e0a6431a8f1b43a91026dcff51170a89a6512...</td>\n",
       "      <td>Ensuite</td>\n",
       "      <td>96ea4e2bf04496c044745938c0299c264c3f4ba079e572...</td>\n",
       "    </tr>\n",
       "    <tr>\n",
       "      <th>3</th>\n",
       "      <td>3</td>\n",
       "      <td>eac9815a500f908736d303e23aa227f0957177b0e6756b...</td>\n",
       "      <td>Low budget</td>\n",
       "      <td>0-0</td>\n",
       "      <td>0</td>\n",
       "      <td>NaN</td>\n",
       "      <td>ba2d0a29556ac20f86f45e4543c0825428cba33fd7a9ea...</td>\n",
       "      <td>a5f0d2d08eb0592087e3a3a2f9c1ba2c67cc30f2efd2bd...</td>\n",
       "      <td>e09e10e67812e9d236ad900e5d46b4308fc62f5d69446a...</td>\n",
       "      <td>bbdefa2950f49882f295b1285d4fa9dec45fc4144bfb07...</td>\n",
       "      <td>09076eb7665d1fb9389c7c4517fee0b00e43092eb34821...</td>\n",
       "      <td>19372fa44c57a01c37a5a8418779ca3d99b0b59731fb35...</td>\n",
       "      <td>8d23a6e37e0a6431a8f1b43a91026dcff51170a89a6512...</td>\n",
       "      <td>NaN</td>\n",
       "      <td>1d2b34d8add02a182a4129023766ca4585a8ddced0e5b3...</td>\n",
       "    </tr>\n",
       "    <tr>\n",
       "      <th>4</th>\n",
       "      <td>4</td>\n",
       "      <td>1deba9e96f404694373de9749ddd1ca8aa7bb823145a6f...</td>\n",
       "      <td>Junk lead</td>\n",
       "      <td>NaN</td>\n",
       "      <td>NaN</td>\n",
       "      <td>NaN</td>\n",
       "      <td>NaN</td>\n",
       "      <td>NaN</td>\n",
       "      <td>NaN</td>\n",
       "      <td>3d59f7548e1af2151b64135003ce63c0a484c26b9b8b16...</td>\n",
       "      <td>268ad70eb5bc4737a2ae28162cbca30118cc94520e49ef...</td>\n",
       "      <td>NaN</td>\n",
       "      <td>NaN</td>\n",
       "      <td>NaN</td>\n",
       "      <td>fc10fffd29cfbe93c55158fb47752a7501c211d253468c...</td>\n",
       "    </tr>\n",
       "  </tbody>\n",
       "</table>\n",
       "</div>"
      ],
      "text/plain": [
       "   Unnamed: 0                                           Agent_id  \\\n",
       "0           0  1deba9e96f404694373de9749ddd1ca8aa7bb823145a6f...   \n",
       "1           1  299ae77a4ef350ae0dd37d6bba1c002d03444fb1edb236...   \n",
       "2           2  c213697430c006013012dd2aca82dd9732aa0a1a6bca13...   \n",
       "3           3  eac9815a500f908736d303e23aa227f0957177b0e6756b...   \n",
       "4           4  1deba9e96f404694373de9749ddd1ca8aa7bb823145a6f...   \n",
       "\n",
       "      lost_reason                budget                                lease  \\\n",
       "0  Not responding                   NaN                                  NaN   \n",
       "1      Low budget                   NaN                                  NaN   \n",
       "2  Not responding  £121 - £180 Per Week  Full Year Course Stay 40 - 44 weeks   \n",
       "3      Low budget                   0-0                                    0   \n",
       "4       Junk lead                   NaN                                  NaN   \n",
       "\n",
       "     movein                                             source  \\\n",
       "0       NaN                                                NaN   \n",
       "1       NaN                                                NaN   \n",
       "2  31/08/22  7aae3e886e89fc1187a5c47d6cea1c22998ee610ade1f2...   \n",
       "3       NaN  ba2d0a29556ac20f86f45e4543c0825428cba33fd7a9ea...   \n",
       "4       NaN                                                NaN   \n",
       "\n",
       "                                         source_city  \\\n",
       "0                                                NaN   \n",
       "1                                                NaN   \n",
       "2  9b8cc3c63cdf447e463c11544924bf027945cbd29675f7...   \n",
       "3  a5f0d2d08eb0592087e3a3a2f9c1ba2c67cc30f2efd2bd...   \n",
       "4                                                NaN   \n",
       "\n",
       "                                      source_country  \\\n",
       "0                                                NaN   \n",
       "1                                                NaN   \n",
       "2  e09e10e67812e9d236ad900e5d46b4308fc62f5d69446a...   \n",
       "3  e09e10e67812e9d236ad900e5d46b4308fc62f5d69446a...   \n",
       "4                                                NaN   \n",
       "\n",
       "                                          utm_source  \\\n",
       "0  3d59f7548e1af2151b64135003ce63c0a484c26b9b8b16...   \n",
       "1  3d59f7548e1af2151b64135003ce63c0a484c26b9b8b16...   \n",
       "2  bbdefa2950f49882f295b1285d4fa9dec45fc4144bfb07...   \n",
       "3  bbdefa2950f49882f295b1285d4fa9dec45fc4144bfb07...   \n",
       "4  3d59f7548e1af2151b64135003ce63c0a484c26b9b8b16...   \n",
       "\n",
       "                                          utm_medium  \\\n",
       "0  268ad70eb5bc4737a2ae28162cbca30118cc94520e49ef...   \n",
       "1  268ad70eb5bc4737a2ae28162cbca30118cc94520e49ef...   \n",
       "2  09076eb7665d1fb9389c7c4517fee0b00e43092eb34821...   \n",
       "3  09076eb7665d1fb9389c7c4517fee0b00e43092eb34821...   \n",
       "4  268ad70eb5bc4737a2ae28162cbca30118cc94520e49ef...   \n",
       "\n",
       "                                            des_city  \\\n",
       "0  ecc0e7dc084f141b29479058967d0bc07dee25d9690a98...   \n",
       "1  5372372f3bf5896820cb2819300c3e681820d82c6efc54...   \n",
       "2  11ab03a1a8c367191355c152f39fe28cae5e426fce49ef...   \n",
       "3  19372fa44c57a01c37a5a8418779ca3d99b0b59731fb35...   \n",
       "4                                                NaN   \n",
       "\n",
       "                                         des_country room_type  \\\n",
       "0  8d23a6e37e0a6431a8f1b43a91026dcff51170a89a6512...       NaN   \n",
       "1  8d23a6e37e0a6431a8f1b43a91026dcff51170a89a6512...       NaN   \n",
       "2  8d23a6e37e0a6431a8f1b43a91026dcff51170a89a6512...   Ensuite   \n",
       "3  8d23a6e37e0a6431a8f1b43a91026dcff51170a89a6512...       NaN   \n",
       "4                                                NaN       NaN   \n",
       "\n",
       "                                             lead_id  \n",
       "0  cd5dc0d9393f3980d11d4ba6f88f8110c2b7a7f7796307...  \n",
       "1  b94693673a5f7178d1b114e4004ad52377d3244dd24a3d...  \n",
       "2  96ea4e2bf04496c044745938c0299c264c3f4ba079e572...  \n",
       "3  1d2b34d8add02a182a4129023766ca4585a8ddced0e5b3...  \n",
       "4  fc10fffd29cfbe93c55158fb47752a7501c211d253468c...  "
      ]
     },
     "execution_count": 33,
     "metadata": {},
     "output_type": "execute_result"
    }
   ],
   "source": [
    "X.head()\n"
   ]
  },
  {
   "cell_type": "code",
   "execution_count": 34,
   "id": "97a4b7e4-331c-45b8-a2d1-d78f9aa4d05a",
   "metadata": {
    "tags": []
   },
   "outputs": [],
   "source": [
    "cat_cols = [\"Agent_id\", \"lost_reason\", \"budget\", \"lease\", \"movein\", \"source\", \"source_city\", \"source_country\", \"utm_source\", \"utm_medium\", \"des_city\", \"des_country\", \"room_type\", \"lead_id\"]"
   ]
  },
  {
   "cell_type": "code",
   "execution_count": 35,
   "id": "31f7076c-6afa-4d7e-a024-f3dea93d3503",
   "metadata": {
    "tags": []
   },
   "outputs": [],
   "source": [
    "x = pd.get_dummies(X,columns=cat_cols)"
   ]
  },
  {
   "cell_type": "code",
   "execution_count": 36,
   "id": "589845f0-70da-48f3-808e-cd2d4c49e76c",
   "metadata": {
    "tags": []
   },
   "outputs": [
    {
     "data": {
      "text/html": [
       "<div>\n",
       "<style scoped>\n",
       "    .dataframe tbody tr th:only-of-type {\n",
       "        vertical-align: middle;\n",
       "    }\n",
       "\n",
       "    .dataframe tbody tr th {\n",
       "        vertical-align: top;\n",
       "    }\n",
       "\n",
       "    .dataframe thead th {\n",
       "        text-align: right;\n",
       "    }\n",
       "</style>\n",
       "<table border=\"1\" class=\"dataframe\">\n",
       "  <thead>\n",
       "    <tr style=\"text-align: right;\">\n",
       "      <th></th>\n",
       "      <th>Unnamed: 0</th>\n",
       "      <th>Agent_id_04222ea3e14cb1209b9726defe3efce5196b7afa0a959854a30401be41f4026d</th>\n",
       "      <th>Agent_id_04d19fde0a08b17aca69491e714bea43565384d12a63626e08477662cc03780e</th>\n",
       "      <th>Agent_id_06ae80c3e00a1457fc70192d357766c9de0a9787fe3dedc386ac0191e9c151c3</th>\n",
       "      <th>Agent_id_0a8e1918dfba7f1923f23bc135c7b0a76344b632c54ca1584c9938160705f63e</th>\n",
       "      <th>Agent_id_0b31c0155c83c5fdbff532bfe3e43dfe547938df26dd9092df0eb46bd7900b0c</th>\n",
       "      <th>Agent_id_1134c0a7d44fdae1afd7f1f64e2789496784095ca0a050947d659c256d331d34</th>\n",
       "      <th>Agent_id_131127203c89e8219dbdfe2f597538759310f40918b22270401794e1300d2c9d</th>\n",
       "      <th>Agent_id_13990937ab8ca4413751a9012a31255e72a18ba3ac8d5c83dd511df50cf2a3e1</th>\n",
       "      <th>Agent_id_15aefc83749af078486ccde85b7f17f9b40fec0bce7612b1a75910868f7aad2e</th>\n",
       "      <th>...</th>\n",
       "      <th>lead_id_ffdf7224ddda79b25424aa96d087f561bca9c2beaffded7d889780704986663b</th>\n",
       "      <th>lead_id_ffe0d0636acff00ee56039003a7e4f07d50db587e1657a0328158be6a5ef854f</th>\n",
       "      <th>lead_id_ffe7aa8f7a4146e31383bbfab9b3246a1921ec1417fb847ca1727bac63e62cb2</th>\n",
       "      <th>lead_id_ffe875a826760c8d01014455fb1ee899e1bfbb1dee73dd5ff6b9eb15859f4490</th>\n",
       "      <th>lead_id_ffe9d2384b33d1843f8e9042cdbaed7528aa75ef5b22c824ab3756fd3fb7ee4e</th>\n",
       "      <th>lead_id_fff11aaa4800ce35804a1e557f5ea04d4b7575e31f530398413a1dd111af6216</th>\n",
       "      <th>lead_id_fff4419ebda9a75ffbbd4039fef31eeaeca93b4c7d6aab586641f71344f71ac1</th>\n",
       "      <th>lead_id_fffdb3c33726791642822022e13ea17b16ddd67312c9abbaa579d80f29cacf92</th>\n",
       "      <th>lead_id_fffe7b465509541da84061c144ca3426748df13497a366adf908eb31adf56119</th>\n",
       "      <th>lead_id_ffff1f313fa1a2a4d6ec6e33bcd9c71be5ed24294c3ed3850efdbea1519d5a6c</th>\n",
       "    </tr>\n",
       "  </thead>\n",
       "  <tbody>\n",
       "    <tr>\n",
       "      <th>0</th>\n",
       "      <td>0</td>\n",
       "      <td>0</td>\n",
       "      <td>0</td>\n",
       "      <td>0</td>\n",
       "      <td>0</td>\n",
       "      <td>0</td>\n",
       "      <td>0</td>\n",
       "      <td>0</td>\n",
       "      <td>0</td>\n",
       "      <td>0</td>\n",
       "      <td>...</td>\n",
       "      <td>0</td>\n",
       "      <td>0</td>\n",
       "      <td>0</td>\n",
       "      <td>0</td>\n",
       "      <td>0</td>\n",
       "      <td>0</td>\n",
       "      <td>0</td>\n",
       "      <td>0</td>\n",
       "      <td>0</td>\n",
       "      <td>0</td>\n",
       "    </tr>\n",
       "    <tr>\n",
       "      <th>1</th>\n",
       "      <td>1</td>\n",
       "      <td>0</td>\n",
       "      <td>0</td>\n",
       "      <td>0</td>\n",
       "      <td>0</td>\n",
       "      <td>0</td>\n",
       "      <td>0</td>\n",
       "      <td>0</td>\n",
       "      <td>0</td>\n",
       "      <td>0</td>\n",
       "      <td>...</td>\n",
       "      <td>0</td>\n",
       "      <td>0</td>\n",
       "      <td>0</td>\n",
       "      <td>0</td>\n",
       "      <td>0</td>\n",
       "      <td>0</td>\n",
       "      <td>0</td>\n",
       "      <td>0</td>\n",
       "      <td>0</td>\n",
       "      <td>0</td>\n",
       "    </tr>\n",
       "    <tr>\n",
       "      <th>2</th>\n",
       "      <td>2</td>\n",
       "      <td>0</td>\n",
       "      <td>0</td>\n",
       "      <td>0</td>\n",
       "      <td>0</td>\n",
       "      <td>0</td>\n",
       "      <td>0</td>\n",
       "      <td>0</td>\n",
       "      <td>0</td>\n",
       "      <td>0</td>\n",
       "      <td>...</td>\n",
       "      <td>0</td>\n",
       "      <td>0</td>\n",
       "      <td>0</td>\n",
       "      <td>0</td>\n",
       "      <td>0</td>\n",
       "      <td>0</td>\n",
       "      <td>0</td>\n",
       "      <td>0</td>\n",
       "      <td>0</td>\n",
       "      <td>0</td>\n",
       "    </tr>\n",
       "    <tr>\n",
       "      <th>3</th>\n",
       "      <td>3</td>\n",
       "      <td>0</td>\n",
       "      <td>0</td>\n",
       "      <td>0</td>\n",
       "      <td>0</td>\n",
       "      <td>0</td>\n",
       "      <td>0</td>\n",
       "      <td>0</td>\n",
       "      <td>0</td>\n",
       "      <td>0</td>\n",
       "      <td>...</td>\n",
       "      <td>0</td>\n",
       "      <td>0</td>\n",
       "      <td>0</td>\n",
       "      <td>0</td>\n",
       "      <td>0</td>\n",
       "      <td>0</td>\n",
       "      <td>0</td>\n",
       "      <td>0</td>\n",
       "      <td>0</td>\n",
       "      <td>0</td>\n",
       "    </tr>\n",
       "    <tr>\n",
       "      <th>4</th>\n",
       "      <td>4</td>\n",
       "      <td>0</td>\n",
       "      <td>0</td>\n",
       "      <td>0</td>\n",
       "      <td>0</td>\n",
       "      <td>0</td>\n",
       "      <td>0</td>\n",
       "      <td>0</td>\n",
       "      <td>0</td>\n",
       "      <td>0</td>\n",
       "      <td>...</td>\n",
       "      <td>0</td>\n",
       "      <td>0</td>\n",
       "      <td>0</td>\n",
       "      <td>0</td>\n",
       "      <td>0</td>\n",
       "      <td>0</td>\n",
       "      <td>0</td>\n",
       "      <td>0</td>\n",
       "      <td>0</td>\n",
       "      <td>0</td>\n",
       "    </tr>\n",
       "  </tbody>\n",
       "</table>\n",
       "<p>5 rows × 38789 columns</p>\n",
       "</div>"
      ],
      "text/plain": [
       "   Unnamed: 0  \\\n",
       "0           0   \n",
       "1           1   \n",
       "2           2   \n",
       "3           3   \n",
       "4           4   \n",
       "\n",
       "   Agent_id_04222ea3e14cb1209b9726defe3efce5196b7afa0a959854a30401be41f4026d  \\\n",
       "0                                                  0                           \n",
       "1                                                  0                           \n",
       "2                                                  0                           \n",
       "3                                                  0                           \n",
       "4                                                  0                           \n",
       "\n",
       "   Agent_id_04d19fde0a08b17aca69491e714bea43565384d12a63626e08477662cc03780e  \\\n",
       "0                                                  0                           \n",
       "1                                                  0                           \n",
       "2                                                  0                           \n",
       "3                                                  0                           \n",
       "4                                                  0                           \n",
       "\n",
       "   Agent_id_06ae80c3e00a1457fc70192d357766c9de0a9787fe3dedc386ac0191e9c151c3  \\\n",
       "0                                                  0                           \n",
       "1                                                  0                           \n",
       "2                                                  0                           \n",
       "3                                                  0                           \n",
       "4                                                  0                           \n",
       "\n",
       "   Agent_id_0a8e1918dfba7f1923f23bc135c7b0a76344b632c54ca1584c9938160705f63e  \\\n",
       "0                                                  0                           \n",
       "1                                                  0                           \n",
       "2                                                  0                           \n",
       "3                                                  0                           \n",
       "4                                                  0                           \n",
       "\n",
       "   Agent_id_0b31c0155c83c5fdbff532bfe3e43dfe547938df26dd9092df0eb46bd7900b0c  \\\n",
       "0                                                  0                           \n",
       "1                                                  0                           \n",
       "2                                                  0                           \n",
       "3                                                  0                           \n",
       "4                                                  0                           \n",
       "\n",
       "   Agent_id_1134c0a7d44fdae1afd7f1f64e2789496784095ca0a050947d659c256d331d34  \\\n",
       "0                                                  0                           \n",
       "1                                                  0                           \n",
       "2                                                  0                           \n",
       "3                                                  0                           \n",
       "4                                                  0                           \n",
       "\n",
       "   Agent_id_131127203c89e8219dbdfe2f597538759310f40918b22270401794e1300d2c9d  \\\n",
       "0                                                  0                           \n",
       "1                                                  0                           \n",
       "2                                                  0                           \n",
       "3                                                  0                           \n",
       "4                                                  0                           \n",
       "\n",
       "   Agent_id_13990937ab8ca4413751a9012a31255e72a18ba3ac8d5c83dd511df50cf2a3e1  \\\n",
       "0                                                  0                           \n",
       "1                                                  0                           \n",
       "2                                                  0                           \n",
       "3                                                  0                           \n",
       "4                                                  0                           \n",
       "\n",
       "   Agent_id_15aefc83749af078486ccde85b7f17f9b40fec0bce7612b1a75910868f7aad2e  \\\n",
       "0                                                  0                           \n",
       "1                                                  0                           \n",
       "2                                                  0                           \n",
       "3                                                  0                           \n",
       "4                                                  0                           \n",
       "\n",
       "   ...  \\\n",
       "0  ...   \n",
       "1  ...   \n",
       "2  ...   \n",
       "3  ...   \n",
       "4  ...   \n",
       "\n",
       "   lead_id_ffdf7224ddda79b25424aa96d087f561bca9c2beaffded7d889780704986663b  \\\n",
       "0                                                  0                          \n",
       "1                                                  0                          \n",
       "2                                                  0                          \n",
       "3                                                  0                          \n",
       "4                                                  0                          \n",
       "\n",
       "   lead_id_ffe0d0636acff00ee56039003a7e4f07d50db587e1657a0328158be6a5ef854f  \\\n",
       "0                                                  0                          \n",
       "1                                                  0                          \n",
       "2                                                  0                          \n",
       "3                                                  0                          \n",
       "4                                                  0                          \n",
       "\n",
       "   lead_id_ffe7aa8f7a4146e31383bbfab9b3246a1921ec1417fb847ca1727bac63e62cb2  \\\n",
       "0                                                  0                          \n",
       "1                                                  0                          \n",
       "2                                                  0                          \n",
       "3                                                  0                          \n",
       "4                                                  0                          \n",
       "\n",
       "   lead_id_ffe875a826760c8d01014455fb1ee899e1bfbb1dee73dd5ff6b9eb15859f4490  \\\n",
       "0                                                  0                          \n",
       "1                                                  0                          \n",
       "2                                                  0                          \n",
       "3                                                  0                          \n",
       "4                                                  0                          \n",
       "\n",
       "   lead_id_ffe9d2384b33d1843f8e9042cdbaed7528aa75ef5b22c824ab3756fd3fb7ee4e  \\\n",
       "0                                                  0                          \n",
       "1                                                  0                          \n",
       "2                                                  0                          \n",
       "3                                                  0                          \n",
       "4                                                  0                          \n",
       "\n",
       "   lead_id_fff11aaa4800ce35804a1e557f5ea04d4b7575e31f530398413a1dd111af6216  \\\n",
       "0                                                  0                          \n",
       "1                                                  0                          \n",
       "2                                                  0                          \n",
       "3                                                  0                          \n",
       "4                                                  0                          \n",
       "\n",
       "   lead_id_fff4419ebda9a75ffbbd4039fef31eeaeca93b4c7d6aab586641f71344f71ac1  \\\n",
       "0                                                  0                          \n",
       "1                                                  0                          \n",
       "2                                                  0                          \n",
       "3                                                  0                          \n",
       "4                                                  0                          \n",
       "\n",
       "   lead_id_fffdb3c33726791642822022e13ea17b16ddd67312c9abbaa579d80f29cacf92  \\\n",
       "0                                                  0                          \n",
       "1                                                  0                          \n",
       "2                                                  0                          \n",
       "3                                                  0                          \n",
       "4                                                  0                          \n",
       "\n",
       "   lead_id_fffe7b465509541da84061c144ca3426748df13497a366adf908eb31adf56119  \\\n",
       "0                                                  0                          \n",
       "1                                                  0                          \n",
       "2                                                  0                          \n",
       "3                                                  0                          \n",
       "4                                                  0                          \n",
       "\n",
       "   lead_id_ffff1f313fa1a2a4d6ec6e33bcd9c71be5ed24294c3ed3850efdbea1519d5a6c  \n",
       "0                                                  0                         \n",
       "1                                                  0                         \n",
       "2                                                  0                         \n",
       "3                                                  0                         \n",
       "4                                                  0                         \n",
       "\n",
       "[5 rows x 38789 columns]"
      ]
     },
     "execution_count": 36,
     "metadata": {},
     "output_type": "execute_result"
    }
   ],
   "source": [
    "x.head()"
   ]
  },
  {
   "cell_type": "code",
   "execution_count": 37,
   "id": "d0dfd9fd-2b9d-411a-9dca-42095bbd4856",
   "metadata": {
    "tags": []
   },
   "outputs": [],
   "source": [
    "import sklearn"
   ]
  },
  {
   "cell_type": "code",
   "execution_count": 38,
   "id": "80d0239a-d77e-45a5-9f00-a532891a5ee0",
   "metadata": {
    "tags": []
   },
   "outputs": [],
   "source": [
    "from sklearn.preprocessing import LabelEncoder\n",
    " \n",
    "# Creating a instance of label Encoder.\n",
    "le = LabelEncoder()\n",
    " \n",
    "# Using .fit_transform function to fit label\n",
    "# encoder and return encoded label\n",
    "X['Agent_id'] = le.fit_transform(X['Agent_id'])"
   ]
  },
  {
   "cell_type": "code",
   "execution_count": 39,
   "id": "ca3cd3b5-5a26-4680-ab44-eefcdaabd879",
   "metadata": {
    "tags": []
   },
   "outputs": [
    {
     "data": {
      "text/plain": [
       "0         12\n",
       "1         20\n",
       "2         87\n",
       "3        110\n",
       "4         12\n",
       "        ... \n",
       "46603     15\n",
       "46604     24\n",
       "46605      5\n",
       "46606     60\n",
       "46607     13\n",
       "Name: Agent_id, Length: 46317, dtype: int64"
      ]
     },
     "execution_count": 39,
     "metadata": {},
     "output_type": "execute_result"
    }
   ],
   "source": [
    "X['Agent_id']"
   ]
  },
  {
   "cell_type": "code",
   "execution_count": 40,
   "id": "fa88ffa0-2e77-4f76-ad62-81bd785a714a",
   "metadata": {
    "tags": []
   },
   "outputs": [],
   "source": [
    "from sklearn.preprocessing import LabelEncoder\n",
    " \n",
    "# Creating a instance of label Encoder.\n",
    "le = LabelEncoder()\n",
    " \n",
    "# Using .fit_transform function to fit label\n",
    "# encoder and return encoded label\n",
    "X['lost_reason'] = le.fit_transform(X['lost_reason'])"
   ]
  },
  {
   "cell_type": "code",
   "execution_count": 41,
   "id": "6e4decd1-baa5-47f0-983b-8efe37b0230b",
   "metadata": {
    "tags": []
   },
   "outputs": [
    {
     "data": {
      "text/plain": [
       "0        21\n",
       "1        16\n",
       "2        21\n",
       "3        16\n",
       "4         8\n",
       "         ..\n",
       "46603    15\n",
       "46604    24\n",
       "46605    15\n",
       "46606    15\n",
       "46607    15\n",
       "Name: lost_reason, Length: 46317, dtype: int64"
      ]
     },
     "execution_count": 41,
     "metadata": {},
     "output_type": "execute_result"
    }
   ],
   "source": [
    "X['lost_reason']"
   ]
  },
  {
   "cell_type": "code",
   "execution_count": 42,
   "id": "0a265e57-e8ff-4062-af2f-053ce6f31265",
   "metadata": {
    "tags": []
   },
   "outputs": [],
   "source": [
    "from sklearn.preprocessing import LabelEncoder\n",
    " \n",
    "# Creating a instance of label Encoder.\n",
    "le = LabelEncoder()\n",
    " \n",
    "# Using .fit_transform function to fit label\n",
    "# encoder and return encoded label\n",
    "X['budget'] = le.fit_transform(X['budget'])"
   ]
  },
  {
   "cell_type": "code",
   "execution_count": 43,
   "id": "59ccaf98-219e-49c8-bb71-dc36f68e0dc6",
   "metadata": {
    "tags": []
   },
   "outputs": [
    {
     "data": {
      "text/plain": [
       "0        1851\n",
       "1        1851\n",
       "2        1752\n",
       "3          10\n",
       "4        1851\n",
       "         ... \n",
       "46603    1834\n",
       "46604    1834\n",
       "46605    1810\n",
       "46606     815\n",
       "46607    1793\n",
       "Name: budget, Length: 46317, dtype: int64"
      ]
     },
     "execution_count": 43,
     "metadata": {},
     "output_type": "execute_result"
    }
   ],
   "source": [
    "X['budget']"
   ]
  },
  {
   "cell_type": "code",
   "execution_count": 44,
   "id": "2be5e922-fae1-4c95-9f77-d4d0b6b7dd42",
   "metadata": {
    "tags": []
   },
   "outputs": [],
   "source": [
    "from sklearn.preprocessing import LabelEncoder\n",
    " \n",
    "# Creating a instance of label Encoder.\n",
    "le = LabelEncoder()\n",
    " \n",
    "# Using .fit_transform function to fit label\n",
    "# encoder and return encoded label\n",
    "X['lease'] = le.fit_transform(X['lease'])"
   ]
  },
  {
   "cell_type": "code",
   "execution_count": 45,
   "id": "99049999-3f52-4b68-badb-41ab8f29df8c",
   "metadata": {
    "tags": []
   },
   "outputs": [
    {
     "data": {
      "text/plain": [
       "0        311\n",
       "1        311\n",
       "2        266\n",
       "3          2\n",
       "4        311\n",
       "        ... \n",
       "46603    263\n",
       "46604    286\n",
       "46605    266\n",
       "46606     93\n",
       "46607    266\n",
       "Name: lease, Length: 46317, dtype: int64"
      ]
     },
     "execution_count": 45,
     "metadata": {},
     "output_type": "execute_result"
    }
   ],
   "source": [
    "X['lease']"
   ]
  },
  {
   "cell_type": "code",
   "execution_count": 46,
   "id": "c30f4a68-bbd6-495e-af86-c1303b91d24e",
   "metadata": {
    "tags": []
   },
   "outputs": [],
   "source": [
    "from sklearn.preprocessing import LabelEncoder\n",
    " \n",
    "# Creating a instance of label Encoder.\n",
    "le = LabelEncoder()\n",
    " \n",
    "# Using .fit_transform function to fit label\n",
    "# encoder and return encoded label\n",
    "X['movein'] = le.fit_transform(X['movein'])"
   ]
  },
  {
   "cell_type": "code",
   "execution_count": 47,
   "id": "6ec4262f-9a8c-438c-a888-9366a14b7313",
   "metadata": {
    "tags": []
   },
   "outputs": [
    {
     "data": {
      "text/plain": [
       "0        469\n",
       "1        469\n",
       "2        463\n",
       "3        469\n",
       "4        469\n",
       "        ... \n",
       "46603     19\n",
       "46604    431\n",
       "46605    308\n",
       "46606    449\n",
       "46607     19\n",
       "Name: movein, Length: 46317, dtype: int64"
      ]
     },
     "execution_count": 47,
     "metadata": {},
     "output_type": "execute_result"
    }
   ],
   "source": [
    "X['movein']"
   ]
  },
  {
   "cell_type": "code",
   "execution_count": 48,
   "id": "9c808d7f-3316-4c82-bde4-96b4b30010aa",
   "metadata": {
    "tags": []
   },
   "outputs": [],
   "source": [
    "#\"source\", \"source_city\", \"source_country\", \"utm_source\", \"utm_medium\", \"des_city\", \"des_country\", \"room_type\", \"lead_id\""
   ]
  },
  {
   "cell_type": "code",
   "execution_count": 49,
   "id": "9adfcb66-9b64-4ea8-9c12-8e91b4d8c358",
   "metadata": {
    "tags": []
   },
   "outputs": [],
   "source": [
    "from sklearn.preprocessing import LabelEncoder\n",
    " \n",
    "# Creating a instance of label Encoder.\n",
    "le = LabelEncoder()\n",
    " \n",
    "# Using .fit_transform function to fit label\n",
    "# encoder and return encoded label\n",
    "X['source'] = le.fit_transform(X['source'])"
   ]
  },
  {
   "cell_type": "code",
   "execution_count": 50,
   "id": "cea418fe-7df1-4cd0-9df2-559adff590b1",
   "metadata": {
    "tags": []
   },
   "outputs": [
    {
     "data": {
      "text/plain": [
       "0        682\n",
       "1        682\n",
       "2        343\n",
       "3        507\n",
       "4        682\n",
       "        ... \n",
       "46603    682\n",
       "46604    682\n",
       "46605    343\n",
       "46606    578\n",
       "46607    343\n",
       "Name: source, Length: 46317, dtype: int64"
      ]
     },
     "execution_count": 50,
     "metadata": {},
     "output_type": "execute_result"
    }
   ],
   "source": [
    "X['source']"
   ]
  },
  {
   "cell_type": "code",
   "execution_count": 51,
   "id": "d31ab94d-307c-4c53-93d5-bf6eda9fea72",
   "metadata": {
    "tags": []
   },
   "outputs": [],
   "source": [
    "from sklearn.preprocessing import LabelEncoder\n",
    " \n",
    "# Creating a instance of label Encoder.\n",
    "le = LabelEncoder()\n",
    " \n",
    "# Using .fit_transform function to fit label\n",
    "# encoder and return encoded label\n",
    "X['source_city'] = le.fit_transform(X['source_city'])"
   ]
  },
  {
   "cell_type": "code",
   "execution_count": 52,
   "id": "0b43d6a4-6c03-46b9-a9df-ab773555d838",
   "metadata": {
    "tags": []
   },
   "outputs": [
    {
     "data": {
      "text/plain": [
       "0        4315\n",
       "1        4315\n",
       "2        2619\n",
       "3        2817\n",
       "4        4315\n",
       "         ... \n",
       "46603    2125\n",
       "46604    2695\n",
       "46605    2125\n",
       "46606    3943\n",
       "46607     351\n",
       "Name: source_city, Length: 46317, dtype: int64"
      ]
     },
     "execution_count": 52,
     "metadata": {},
     "output_type": "execute_result"
    }
   ],
   "source": [
    "X['source_city']"
   ]
  },
  {
   "cell_type": "code",
   "execution_count": 53,
   "id": "423ef6bd-8e47-429a-af3e-a2cdc4b76b17",
   "metadata": {
    "tags": []
   },
   "outputs": [],
   "source": [
    "from sklearn.preprocessing import LabelEncoder\n",
    " \n",
    "# Creating a instance of label Encoder.\n",
    "le = LabelEncoder()\n",
    " \n",
    "# Using .fit_transform function to fit label\n",
    "# encoder and return encoded label\n",
    "X['source_country'] = le.fit_transform(X['source_country'])"
   ]
  },
  {
   "cell_type": "code",
   "execution_count": 54,
   "id": "5f115653-8e0e-4a8a-9d9c-b4889a9907fc",
   "metadata": {
    "tags": []
   },
   "outputs": [
    {
     "data": {
      "text/plain": [
       "0        184\n",
       "1        184\n",
       "2        165\n",
       "3        165\n",
       "4        184\n",
       "        ... \n",
       "46603    100\n",
       "46604    100\n",
       "46605    100\n",
       "46606    133\n",
       "46607    165\n",
       "Name: source_country, Length: 46317, dtype: int64"
      ]
     },
     "execution_count": 54,
     "metadata": {},
     "output_type": "execute_result"
    }
   ],
   "source": [
    "X['source_country']"
   ]
  },
  {
   "cell_type": "code",
   "execution_count": 55,
   "id": "46cf59c6-b0a7-47e0-b2af-8be8da1c9521",
   "metadata": {
    "tags": []
   },
   "outputs": [],
   "source": [
    "#\"utm_source\", \"utm_medium\", \"des_city\", \"des_country\", \"room_type\", \"lead_id\""
   ]
  },
  {
   "cell_type": "code",
   "execution_count": 56,
   "id": "80ae04aa-e13e-481a-be3d-dec89062be47",
   "metadata": {
    "tags": []
   },
   "outputs": [],
   "source": [
    "from sklearn.preprocessing import LabelEncoder\n",
    " \n",
    "# Creating a instance of label Encoder.\n",
    "le = LabelEncoder()\n",
    " \n",
    "# Using .fit_transform function to fit label\n",
    "# encoder and return encoded label\n",
    "X['utm_source'] = le.fit_transform(X['utm_source'])"
   ]
  },
  {
   "cell_type": "code",
   "execution_count": 57,
   "id": "8133995f-78e4-4d0f-b02b-97b9948ffdd4",
   "metadata": {
    "tags": []
   },
   "outputs": [
    {
     "data": {
      "text/plain": [
       "0         5\n",
       "1         5\n",
       "2        25\n",
       "3        25\n",
       "4         5\n",
       "         ..\n",
       "46603    25\n",
       "46604    25\n",
       "46605    25\n",
       "46606    19\n",
       "46607    25\n",
       "Name: utm_source, Length: 46317, dtype: int64"
      ]
     },
     "execution_count": 57,
     "metadata": {},
     "output_type": "execute_result"
    }
   ],
   "source": [
    "X['utm_source']"
   ]
  },
  {
   "cell_type": "code",
   "execution_count": 58,
   "id": "9771709f-f370-4348-a92d-47fcdfd4c09f",
   "metadata": {
    "tags": []
   },
   "outputs": [],
   "source": [
    "from sklearn.preprocessing import LabelEncoder\n",
    " \n",
    "# Creating a instance of label Encoder.\n",
    "le = LabelEncoder()\n",
    " \n",
    "# Using .fit_transform function to fit label\n",
    "# encoder and return encoded label\n",
    "X['utm_medium'] = le.fit_transform(X['utm_medium'])"
   ]
  },
  {
   "cell_type": "code",
   "execution_count": 59,
   "id": "e332183c-750f-422a-b3ff-2b07e50ac25c",
   "metadata": {
    "tags": []
   },
   "outputs": [
    {
     "data": {
      "text/plain": [
       "0        10\n",
       "1        10\n",
       "2         3\n",
       "3         3\n",
       "4        10\n",
       "         ..\n",
       "46603     3\n",
       "46604     3\n",
       "46605     3\n",
       "46606    49\n",
       "46607     3\n",
       "Name: utm_medium, Length: 46317, dtype: int64"
      ]
     },
     "execution_count": 59,
     "metadata": {},
     "output_type": "execute_result"
    }
   ],
   "source": [
    "X['utm_medium']"
   ]
  },
  {
   "cell_type": "code",
   "execution_count": 60,
   "id": "485385e5-6620-4e73-a17b-568b274cbc6c",
   "metadata": {
    "tags": []
   },
   "outputs": [],
   "source": [
    "from sklearn.preprocessing import LabelEncoder\n",
    " \n",
    "# Creating a instance of label Encoder.\n",
    "le = LabelEncoder()\n",
    " \n",
    "# Using .fit_transform function to fit label\n",
    "# encoder and return encoded label\n",
    "X['des_city'] = le.fit_transform(X['des_city'])"
   ]
  },
  {
   "cell_type": "code",
   "execution_count": 62,
   "id": "35a608c5-6b8d-4638-9c30-fe7ec480e53d",
   "metadata": {
    "tags": []
   },
   "outputs": [
    {
     "data": {
      "text/plain": [
       "0        205\n",
       "1         74\n",
       "2         18\n",
       "3         26\n",
       "4        219\n",
       "        ... \n",
       "46603     22\n",
       "46604    135\n",
       "46605    205\n",
       "46606    205\n",
       "46607     85\n",
       "Name: des_city, Length: 46317, dtype: int64"
      ]
     },
     "execution_count": 62,
     "metadata": {},
     "output_type": "execute_result"
    }
   ],
   "source": [
    "X['des_city']"
   ]
  },
  {
   "cell_type": "code",
   "execution_count": 63,
   "id": "3ceda6e9-cf1d-49cc-bc69-d646a18ccfd1",
   "metadata": {
    "tags": []
   },
   "outputs": [],
   "source": [
    "from sklearn.preprocessing import LabelEncoder\n",
    " \n",
    "# Creating a instance of label Encoder.\n",
    "le = LabelEncoder()\n",
    " \n",
    "# Using .fit_transform function to fit label\n",
    "# encoder and return encoded label\n",
    "X['des_country'] = le.fit_transform(X['des_country'])"
   ]
  },
  {
   "cell_type": "code",
   "execution_count": 64,
   "id": "dbea8753-f6c0-41dc-8f90-845304bf7515",
   "metadata": {
    "tags": []
   },
   "outputs": [
    {
     "data": {
      "text/plain": [
       "0         8\n",
       "1         8\n",
       "2         8\n",
       "3         8\n",
       "4        14\n",
       "         ..\n",
       "46603     8\n",
       "46604     8\n",
       "46605     8\n",
       "46606     8\n",
       "46607     8\n",
       "Name: des_country, Length: 46317, dtype: int64"
      ]
     },
     "execution_count": 64,
     "metadata": {},
     "output_type": "execute_result"
    }
   ],
   "source": [
    "X['des_country']"
   ]
  },
  {
   "cell_type": "code",
   "execution_count": 65,
   "id": "6bbcd976-7fc9-433c-aefb-712790d6a2a1",
   "metadata": {
    "tags": []
   },
   "outputs": [],
   "source": [
    "from sklearn.preprocessing import LabelEncoder\n",
    " \n",
    "# Creating a instance of label Encoder.\n",
    "le = LabelEncoder()\n",
    " \n",
    "# Using .fit_transform function to fit label\n",
    "# encoder and return encoded label\n",
    "X['room_type'] = le.fit_transform(X['room_type'])"
   ]
  },
  {
   "cell_type": "code",
   "execution_count": 66,
   "id": "af88be92-6ab7-4042-aa40-7494e7b0e625",
   "metadata": {
    "tags": []
   },
   "outputs": [
    {
     "data": {
      "text/plain": [
       "0        5\n",
       "1        5\n",
       "2        0\n",
       "3        5\n",
       "4        5\n",
       "        ..\n",
       "46603    3\n",
       "46604    3\n",
       "46605    3\n",
       "46606    5\n",
       "46607    3\n",
       "Name: room_type, Length: 46317, dtype: int64"
      ]
     },
     "execution_count": 66,
     "metadata": {},
     "output_type": "execute_result"
    }
   ],
   "source": [
    "X['room_type']"
   ]
  },
  {
   "cell_type": "code",
   "execution_count": 67,
   "id": "dabe142e-1fe5-49be-8b5d-d4bbd7f69b62",
   "metadata": {
    "tags": []
   },
   "outputs": [],
   "source": [
    "from sklearn.preprocessing import LabelEncoder\n",
    " \n",
    "# Creating a instance of label Encoder.\n",
    "le = LabelEncoder()\n",
    " \n",
    "# Using .fit_transform function to fit label\n",
    "# encoder and return encoded label\n",
    "X['lead_id'] = le.fit_transform(X['lead_id'])"
   ]
  },
  {
   "cell_type": "code",
   "execution_count": 68,
   "id": "6cfcda63-ff6c-4e04-9cfb-29a87966885b",
   "metadata": {
    "tags": []
   },
   "outputs": [
    {
     "data": {
      "text/plain": [
       "0        24421\n",
       "1        22037\n",
       "2        17924\n",
       "3         3582\n",
       "4        30016\n",
       "         ...  \n",
       "46603     3295\n",
       "46604     3895\n",
       "46605    25937\n",
       "46606     3895\n",
       "46607    13961\n",
       "Name: lead_id, Length: 46317, dtype: int64"
      ]
     },
     "execution_count": 68,
     "metadata": {},
     "output_type": "execute_result"
    }
   ],
   "source": [
    "X['lead_id']"
   ]
  },
  {
   "cell_type": "code",
   "execution_count": 69,
   "id": "4cb50961-194b-4582-8d19-94a7df195648",
   "metadata": {
    "tags": []
   },
   "outputs": [
    {
     "data": {
      "text/html": [
       "<div>\n",
       "<style scoped>\n",
       "    .dataframe tbody tr th:only-of-type {\n",
       "        vertical-align: middle;\n",
       "    }\n",
       "\n",
       "    .dataframe tbody tr th {\n",
       "        vertical-align: top;\n",
       "    }\n",
       "\n",
       "    .dataframe thead th {\n",
       "        text-align: right;\n",
       "    }\n",
       "</style>\n",
       "<table border=\"1\" class=\"dataframe\">\n",
       "  <thead>\n",
       "    <tr style=\"text-align: right;\">\n",
       "      <th></th>\n",
       "      <th>Unnamed: 0</th>\n",
       "      <th>Agent_id</th>\n",
       "      <th>lost_reason</th>\n",
       "      <th>budget</th>\n",
       "      <th>lease</th>\n",
       "      <th>movein</th>\n",
       "      <th>source</th>\n",
       "      <th>source_city</th>\n",
       "      <th>source_country</th>\n",
       "      <th>utm_source</th>\n",
       "      <th>utm_medium</th>\n",
       "      <th>des_city</th>\n",
       "      <th>des_country</th>\n",
       "      <th>room_type</th>\n",
       "      <th>lead_id</th>\n",
       "    </tr>\n",
       "  </thead>\n",
       "  <tbody>\n",
       "    <tr>\n",
       "      <th>0</th>\n",
       "      <td>0</td>\n",
       "      <td>12</td>\n",
       "      <td>21</td>\n",
       "      <td>1851</td>\n",
       "      <td>311</td>\n",
       "      <td>469</td>\n",
       "      <td>682</td>\n",
       "      <td>4315</td>\n",
       "      <td>184</td>\n",
       "      <td>5</td>\n",
       "      <td>10</td>\n",
       "      <td>205</td>\n",
       "      <td>8</td>\n",
       "      <td>5</td>\n",
       "      <td>24421</td>\n",
       "    </tr>\n",
       "    <tr>\n",
       "      <th>1</th>\n",
       "      <td>1</td>\n",
       "      <td>20</td>\n",
       "      <td>16</td>\n",
       "      <td>1851</td>\n",
       "      <td>311</td>\n",
       "      <td>469</td>\n",
       "      <td>682</td>\n",
       "      <td>4315</td>\n",
       "      <td>184</td>\n",
       "      <td>5</td>\n",
       "      <td>10</td>\n",
       "      <td>74</td>\n",
       "      <td>8</td>\n",
       "      <td>5</td>\n",
       "      <td>22037</td>\n",
       "    </tr>\n",
       "    <tr>\n",
       "      <th>2</th>\n",
       "      <td>2</td>\n",
       "      <td>87</td>\n",
       "      <td>21</td>\n",
       "      <td>1752</td>\n",
       "      <td>266</td>\n",
       "      <td>463</td>\n",
       "      <td>343</td>\n",
       "      <td>2619</td>\n",
       "      <td>165</td>\n",
       "      <td>25</td>\n",
       "      <td>3</td>\n",
       "      <td>18</td>\n",
       "      <td>8</td>\n",
       "      <td>0</td>\n",
       "      <td>17924</td>\n",
       "    </tr>\n",
       "    <tr>\n",
       "      <th>3</th>\n",
       "      <td>3</td>\n",
       "      <td>110</td>\n",
       "      <td>16</td>\n",
       "      <td>10</td>\n",
       "      <td>2</td>\n",
       "      <td>469</td>\n",
       "      <td>507</td>\n",
       "      <td>2817</td>\n",
       "      <td>165</td>\n",
       "      <td>25</td>\n",
       "      <td>3</td>\n",
       "      <td>26</td>\n",
       "      <td>8</td>\n",
       "      <td>5</td>\n",
       "      <td>3582</td>\n",
       "    </tr>\n",
       "    <tr>\n",
       "      <th>4</th>\n",
       "      <td>4</td>\n",
       "      <td>12</td>\n",
       "      <td>8</td>\n",
       "      <td>1851</td>\n",
       "      <td>311</td>\n",
       "      <td>469</td>\n",
       "      <td>682</td>\n",
       "      <td>4315</td>\n",
       "      <td>184</td>\n",
       "      <td>5</td>\n",
       "      <td>10</td>\n",
       "      <td>219</td>\n",
       "      <td>14</td>\n",
       "      <td>5</td>\n",
       "      <td>30016</td>\n",
       "    </tr>\n",
       "    <tr>\n",
       "      <th>...</th>\n",
       "      <td>...</td>\n",
       "      <td>...</td>\n",
       "      <td>...</td>\n",
       "      <td>...</td>\n",
       "      <td>...</td>\n",
       "      <td>...</td>\n",
       "      <td>...</td>\n",
       "      <td>...</td>\n",
       "      <td>...</td>\n",
       "      <td>...</td>\n",
       "      <td>...</td>\n",
       "      <td>...</td>\n",
       "      <td>...</td>\n",
       "      <td>...</td>\n",
       "      <td>...</td>\n",
       "    </tr>\n",
       "    <tr>\n",
       "      <th>46603</th>\n",
       "      <td>46603</td>\n",
       "      <td>15</td>\n",
       "      <td>15</td>\n",
       "      <td>1834</td>\n",
       "      <td>263</td>\n",
       "      <td>19</td>\n",
       "      <td>682</td>\n",
       "      <td>2125</td>\n",
       "      <td>100</td>\n",
       "      <td>25</td>\n",
       "      <td>3</td>\n",
       "      <td>22</td>\n",
       "      <td>8</td>\n",
       "      <td>3</td>\n",
       "      <td>3295</td>\n",
       "    </tr>\n",
       "    <tr>\n",
       "      <th>46604</th>\n",
       "      <td>46604</td>\n",
       "      <td>24</td>\n",
       "      <td>24</td>\n",
       "      <td>1834</td>\n",
       "      <td>286</td>\n",
       "      <td>431</td>\n",
       "      <td>682</td>\n",
       "      <td>2695</td>\n",
       "      <td>100</td>\n",
       "      <td>25</td>\n",
       "      <td>3</td>\n",
       "      <td>135</td>\n",
       "      <td>8</td>\n",
       "      <td>3</td>\n",
       "      <td>3895</td>\n",
       "    </tr>\n",
       "    <tr>\n",
       "      <th>46605</th>\n",
       "      <td>46605</td>\n",
       "      <td>5</td>\n",
       "      <td>15</td>\n",
       "      <td>1810</td>\n",
       "      <td>266</td>\n",
       "      <td>308</td>\n",
       "      <td>343</td>\n",
       "      <td>2125</td>\n",
       "      <td>100</td>\n",
       "      <td>25</td>\n",
       "      <td>3</td>\n",
       "      <td>205</td>\n",
       "      <td>8</td>\n",
       "      <td>3</td>\n",
       "      <td>25937</td>\n",
       "    </tr>\n",
       "    <tr>\n",
       "      <th>46606</th>\n",
       "      <td>46606</td>\n",
       "      <td>60</td>\n",
       "      <td>15</td>\n",
       "      <td>815</td>\n",
       "      <td>93</td>\n",
       "      <td>449</td>\n",
       "      <td>578</td>\n",
       "      <td>3943</td>\n",
       "      <td>133</td>\n",
       "      <td>19</td>\n",
       "      <td>49</td>\n",
       "      <td>205</td>\n",
       "      <td>8</td>\n",
       "      <td>5</td>\n",
       "      <td>3895</td>\n",
       "    </tr>\n",
       "    <tr>\n",
       "      <th>46607</th>\n",
       "      <td>46607</td>\n",
       "      <td>13</td>\n",
       "      <td>15</td>\n",
       "      <td>1793</td>\n",
       "      <td>266</td>\n",
       "      <td>19</td>\n",
       "      <td>343</td>\n",
       "      <td>351</td>\n",
       "      <td>165</td>\n",
       "      <td>25</td>\n",
       "      <td>3</td>\n",
       "      <td>85</td>\n",
       "      <td>8</td>\n",
       "      <td>3</td>\n",
       "      <td>13961</td>\n",
       "    </tr>\n",
       "  </tbody>\n",
       "</table>\n",
       "<p>46317 rows × 15 columns</p>\n",
       "</div>"
      ],
      "text/plain": [
       "       Unnamed: 0  Agent_id  lost_reason  budget  lease  movein  source  \\\n",
       "0               0        12           21    1851    311     469     682   \n",
       "1               1        20           16    1851    311     469     682   \n",
       "2               2        87           21    1752    266     463     343   \n",
       "3               3       110           16      10      2     469     507   \n",
       "4               4        12            8    1851    311     469     682   \n",
       "...           ...       ...          ...     ...    ...     ...     ...   \n",
       "46603       46603        15           15    1834    263      19     682   \n",
       "46604       46604        24           24    1834    286     431     682   \n",
       "46605       46605         5           15    1810    266     308     343   \n",
       "46606       46606        60           15     815     93     449     578   \n",
       "46607       46607        13           15    1793    266      19     343   \n",
       "\n",
       "       source_city  source_country  utm_source  utm_medium  des_city  \\\n",
       "0             4315             184           5          10       205   \n",
       "1             4315             184           5          10        74   \n",
       "2             2619             165          25           3        18   \n",
       "3             2817             165          25           3        26   \n",
       "4             4315             184           5          10       219   \n",
       "...            ...             ...         ...         ...       ...   \n",
       "46603         2125             100          25           3        22   \n",
       "46604         2695             100          25           3       135   \n",
       "46605         2125             100          25           3       205   \n",
       "46606         3943             133          19          49       205   \n",
       "46607          351             165          25           3        85   \n",
       "\n",
       "       des_country  room_type  lead_id  \n",
       "0                8          5    24421  \n",
       "1                8          5    22037  \n",
       "2                8          0    17924  \n",
       "3                8          5     3582  \n",
       "4               14          5    30016  \n",
       "...            ...        ...      ...  \n",
       "46603            8          3     3295  \n",
       "46604            8          3     3895  \n",
       "46605            8          3    25937  \n",
       "46606            8          5     3895  \n",
       "46607            8          3    13961  \n",
       "\n",
       "[46317 rows x 15 columns]"
      ]
     },
     "execution_count": 69,
     "metadata": {},
     "output_type": "execute_result"
    }
   ],
   "source": [
    "X"
   ]
  },
  {
   "cell_type": "code",
   "execution_count": 70,
   "id": "7967a399-707d-4d84-a452-591b1f0c748a",
   "metadata": {
    "tags": []
   },
   "outputs": [
    {
     "data": {
      "text/html": [
       "<div>\n",
       "<style scoped>\n",
       "    .dataframe tbody tr th:only-of-type {\n",
       "        vertical-align: middle;\n",
       "    }\n",
       "\n",
       "    .dataframe tbody tr th {\n",
       "        vertical-align: top;\n",
       "    }\n",
       "\n",
       "    .dataframe thead th {\n",
       "        text-align: right;\n",
       "    }\n",
       "</style>\n",
       "<table border=\"1\" class=\"dataframe\">\n",
       "  <thead>\n",
       "    <tr style=\"text-align: right;\">\n",
       "      <th></th>\n",
       "      <th>status</th>\n",
       "    </tr>\n",
       "  </thead>\n",
       "  <tbody>\n",
       "    <tr>\n",
       "      <th>0</th>\n",
       "      <td>LOST</td>\n",
       "    </tr>\n",
       "    <tr>\n",
       "      <th>1</th>\n",
       "      <td>LOST</td>\n",
       "    </tr>\n",
       "    <tr>\n",
       "      <th>2</th>\n",
       "      <td>LOST</td>\n",
       "    </tr>\n",
       "    <tr>\n",
       "      <th>3</th>\n",
       "      <td>LOST</td>\n",
       "    </tr>\n",
       "    <tr>\n",
       "      <th>4</th>\n",
       "      <td>LOST</td>\n",
       "    </tr>\n",
       "    <tr>\n",
       "      <th>...</th>\n",
       "      <td>...</td>\n",
       "    </tr>\n",
       "    <tr>\n",
       "      <th>46603</th>\n",
       "      <td>LOST</td>\n",
       "    </tr>\n",
       "    <tr>\n",
       "      <th>46604</th>\n",
       "      <td>LOST</td>\n",
       "    </tr>\n",
       "    <tr>\n",
       "      <th>46605</th>\n",
       "      <td>LOST</td>\n",
       "    </tr>\n",
       "    <tr>\n",
       "      <th>46606</th>\n",
       "      <td>LOST</td>\n",
       "    </tr>\n",
       "    <tr>\n",
       "      <th>46607</th>\n",
       "      <td>LOST</td>\n",
       "    </tr>\n",
       "  </tbody>\n",
       "</table>\n",
       "<p>46317 rows × 1 columns</p>\n",
       "</div>"
      ],
      "text/plain": [
       "      status\n",
       "0       LOST\n",
       "1       LOST\n",
       "2       LOST\n",
       "3       LOST\n",
       "4       LOST\n",
       "...      ...\n",
       "46603   LOST\n",
       "46604   LOST\n",
       "46605   LOST\n",
       "46606   LOST\n",
       "46607   LOST\n",
       "\n",
       "[46317 rows x 1 columns]"
      ]
     },
     "execution_count": 70,
     "metadata": {},
     "output_type": "execute_result"
    }
   ],
   "source": [
    "y"
   ]
  },
  {
   "cell_type": "code",
   "execution_count": 71,
   "id": "a84ebc88-95f1-4ba0-936c-fc8f66e5f41a",
   "metadata": {
    "tags": []
   },
   "outputs": [],
   "source": [
    "cat_cols = [\"status\"]"
   ]
  },
  {
   "cell_type": "code",
   "execution_count": 73,
   "id": "c3788154-cc54-4428-a0e3-e0a9fa87242b",
   "metadata": {
    "tags": []
   },
   "outputs": [],
   "source": [
    "Y = pd.get_dummies(y,columns=cat_cols)"
   ]
  },
  {
   "cell_type": "code",
   "execution_count": 74,
   "id": "f29b8a71-4e94-467a-8b1b-43a70d141d8f",
   "metadata": {
    "tags": []
   },
   "outputs": [
    {
     "data": {
      "text/html": [
       "<div>\n",
       "<style scoped>\n",
       "    .dataframe tbody tr th:only-of-type {\n",
       "        vertical-align: middle;\n",
       "    }\n",
       "\n",
       "    .dataframe tbody tr th {\n",
       "        vertical-align: top;\n",
       "    }\n",
       "\n",
       "    .dataframe thead th {\n",
       "        text-align: right;\n",
       "    }\n",
       "</style>\n",
       "<table border=\"1\" class=\"dataframe\">\n",
       "  <thead>\n",
       "    <tr style=\"text-align: right;\">\n",
       "      <th></th>\n",
       "      <th>status_LOST</th>\n",
       "      <th>status_WON</th>\n",
       "    </tr>\n",
       "  </thead>\n",
       "  <tbody>\n",
       "    <tr>\n",
       "      <th>0</th>\n",
       "      <td>1</td>\n",
       "      <td>0</td>\n",
       "    </tr>\n",
       "    <tr>\n",
       "      <th>1</th>\n",
       "      <td>1</td>\n",
       "      <td>0</td>\n",
       "    </tr>\n",
       "    <tr>\n",
       "      <th>2</th>\n",
       "      <td>1</td>\n",
       "      <td>0</td>\n",
       "    </tr>\n",
       "    <tr>\n",
       "      <th>3</th>\n",
       "      <td>1</td>\n",
       "      <td>0</td>\n",
       "    </tr>\n",
       "    <tr>\n",
       "      <th>4</th>\n",
       "      <td>1</td>\n",
       "      <td>0</td>\n",
       "    </tr>\n",
       "  </tbody>\n",
       "</table>\n",
       "</div>"
      ],
      "text/plain": [
       "   status_LOST  status_WON\n",
       "0            1           0\n",
       "1            1           0\n",
       "2            1           0\n",
       "3            1           0\n",
       "4            1           0"
      ]
     },
     "execution_count": 74,
     "metadata": {},
     "output_type": "execute_result"
    }
   ],
   "source": [
    "Y.head()"
   ]
  },
  {
   "cell_type": "code",
   "execution_count": 75,
   "id": "dd19a588-89d5-4c55-96ba-eebba4dcb26c",
   "metadata": {
    "tags": []
   },
   "outputs": [],
   "source": [
    "from sklearn.preprocessing import LabelEncoder\n",
    " \n",
    "# Creating a instance of label Encoder.\n",
    "le = LabelEncoder()\n",
    " \n",
    "# Using .fit_transform function to fit label\n",
    "# encoder and return encoded label\n",
    "y['status'] = le.fit_transform(y['status'])"
   ]
  },
  {
   "cell_type": "code",
   "execution_count": 76,
   "id": "8ea78343-fe14-48ac-9a2e-1afcfbcf46ab",
   "metadata": {
    "tags": []
   },
   "outputs": [
    {
     "data": {
      "text/plain": [
       "0        0\n",
       "1        0\n",
       "2        0\n",
       "3        0\n",
       "4        0\n",
       "        ..\n",
       "46603    0\n",
       "46604    0\n",
       "46605    0\n",
       "46606    0\n",
       "46607    0\n",
       "Name: status, Length: 46317, dtype: int64"
      ]
     },
     "execution_count": 76,
     "metadata": {},
     "output_type": "execute_result"
    }
   ],
   "source": [
    "y['status']"
   ]
  },
  {
   "cell_type": "code",
   "execution_count": 77,
   "id": "5ce89ed4-384b-46c4-93f8-4c47cd00c002",
   "metadata": {
    "tags": []
   },
   "outputs": [],
   "source": [
    "X = X.values"
   ]
  },
  {
   "cell_type": "code",
   "execution_count": 78,
   "id": "8e350796-537e-4b49-8d9c-3ba17061633c",
   "metadata": {
    "tags": []
   },
   "outputs": [],
   "source": [
    "y = y.values"
   ]
  },
  {
   "cell_type": "code",
   "execution_count": 79,
   "id": "1158d42e-9023-462c-be31-f7eb53b5bd76",
   "metadata": {
    "tags": []
   },
   "outputs": [
    {
     "name": "stdout",
     "output_type": "stream",
     "text": [
      "37053\n",
      "(37053, 15) (37053, 1)\n",
      "(9264, 15) (9264, 1)\n"
     ]
    },
    {
     "data": {
      "text/plain": [
       "37053"
      ]
     },
     "execution_count": 79,
     "metadata": {},
     "output_type": "execute_result"
    }
   ],
   "source": [
    "split = int(0.8*X.shape[0])\n",
    "print(split)\n",
    "\n",
    "X_train = X[:split,:]\n",
    "y_train = y[:split]\n",
    "\n",
    "X_test = X[split:,:]\n",
    "y_test = y[split:]\n",
    "\n",
    "print(X_train.shape,y_train.shape)\n",
    "print(X_test.shape,y_test.shape)\n",
    "split"
   ]
  },
  {
   "cell_type": "code",
   "execution_count": 80,
   "id": "520136cd-5a39-422a-a0ba-dba54edb6ba4",
   "metadata": {
    "tags": []
   },
   "outputs": [],
   "source": [
    "from sklearn.linear_model import LinearRegression"
   ]
  },
  {
   "cell_type": "code",
   "execution_count": 81,
   "id": "47073d8b-0bf0-4235-890f-d5520f16b10a",
   "metadata": {
    "tags": []
   },
   "outputs": [
    {
     "data": {
      "text/plain": [
       "0.24773163009888577"
      ]
     },
     "execution_count": 81,
     "metadata": {},
     "output_type": "execute_result"
    }
   ],
   "source": [
    "reg = LinearRegression().fit(X_train, y_train)\n",
    "reg.score(X_test, y_test)"
   ]
  },
  {
   "cell_type": "code",
   "execution_count": 82,
   "id": "adbd5e07-e4aa-4449-a923-8188c8c0f6ce",
   "metadata": {
    "tags": []
   },
   "outputs": [
    {
     "data": {
      "text/html": [
       "<style>#sk-container-id-1 {color: black;background-color: white;}#sk-container-id-1 pre{padding: 0;}#sk-container-id-1 div.sk-toggleable {background-color: white;}#sk-container-id-1 label.sk-toggleable__label {cursor: pointer;display: block;width: 100%;margin-bottom: 0;padding: 0.3em;box-sizing: border-box;text-align: center;}#sk-container-id-1 label.sk-toggleable__label-arrow:before {content: \"▸\";float: left;margin-right: 0.25em;color: #696969;}#sk-container-id-1 label.sk-toggleable__label-arrow:hover:before {color: black;}#sk-container-id-1 div.sk-estimator:hover label.sk-toggleable__label-arrow:before {color: black;}#sk-container-id-1 div.sk-toggleable__content {max-height: 0;max-width: 0;overflow: hidden;text-align: left;background-color: #f0f8ff;}#sk-container-id-1 div.sk-toggleable__content pre {margin: 0.2em;color: black;border-radius: 0.25em;background-color: #f0f8ff;}#sk-container-id-1 input.sk-toggleable__control:checked~div.sk-toggleable__content {max-height: 200px;max-width: 100%;overflow: auto;}#sk-container-id-1 input.sk-toggleable__control:checked~label.sk-toggleable__label-arrow:before {content: \"▾\";}#sk-container-id-1 div.sk-estimator input.sk-toggleable__control:checked~label.sk-toggleable__label {background-color: #d4ebff;}#sk-container-id-1 div.sk-label input.sk-toggleable__control:checked~label.sk-toggleable__label {background-color: #d4ebff;}#sk-container-id-1 input.sk-hidden--visually {border: 0;clip: rect(1px 1px 1px 1px);clip: rect(1px, 1px, 1px, 1px);height: 1px;margin: -1px;overflow: hidden;padding: 0;position: absolute;width: 1px;}#sk-container-id-1 div.sk-estimator {font-family: monospace;background-color: #f0f8ff;border: 1px dotted black;border-radius: 0.25em;box-sizing: border-box;margin-bottom: 0.5em;}#sk-container-id-1 div.sk-estimator:hover {background-color: #d4ebff;}#sk-container-id-1 div.sk-parallel-item::after {content: \"\";width: 100%;border-bottom: 1px solid gray;flex-grow: 1;}#sk-container-id-1 div.sk-label:hover label.sk-toggleable__label {background-color: #d4ebff;}#sk-container-id-1 div.sk-serial::before {content: \"\";position: absolute;border-left: 1px solid gray;box-sizing: border-box;top: 0;bottom: 0;left: 50%;z-index: 0;}#sk-container-id-1 div.sk-serial {display: flex;flex-direction: column;align-items: center;background-color: white;padding-right: 0.2em;padding-left: 0.2em;position: relative;}#sk-container-id-1 div.sk-item {position: relative;z-index: 1;}#sk-container-id-1 div.sk-parallel {display: flex;align-items: stretch;justify-content: center;background-color: white;position: relative;}#sk-container-id-1 div.sk-item::before, #sk-container-id-1 div.sk-parallel-item::before {content: \"\";position: absolute;border-left: 1px solid gray;box-sizing: border-box;top: 0;bottom: 0;left: 50%;z-index: -1;}#sk-container-id-1 div.sk-parallel-item {display: flex;flex-direction: column;z-index: 1;position: relative;background-color: white;}#sk-container-id-1 div.sk-parallel-item:first-child::after {align-self: flex-end;width: 50%;}#sk-container-id-1 div.sk-parallel-item:last-child::after {align-self: flex-start;width: 50%;}#sk-container-id-1 div.sk-parallel-item:only-child::after {width: 0;}#sk-container-id-1 div.sk-dashed-wrapped {border: 1px dashed gray;margin: 0 0.4em 0.5em 0.4em;box-sizing: border-box;padding-bottom: 0.4em;background-color: white;}#sk-container-id-1 div.sk-label label {font-family: monospace;font-weight: bold;display: inline-block;line-height: 1.2em;}#sk-container-id-1 div.sk-label-container {text-align: center;}#sk-container-id-1 div.sk-container {/* jupyter's `normalize.less` sets `[hidden] { display: none; }` but bootstrap.min.css set `[hidden] { display: none !important; }` so we also need the `!important` here to be able to override the default hidden behavior on the sphinx rendered scikit-learn.org. See: https://github.com/scikit-learn/scikit-learn/issues/21755 */display: inline-block !important;position: relative;}#sk-container-id-1 div.sk-text-repr-fallback {display: none;}</style><div id=\"sk-container-id-1\" class=\"sk-top-container\"><div class=\"sk-text-repr-fallback\"><pre>KNeighborsRegressor()</pre><b>In a Jupyter environment, please rerun this cell to show the HTML representation or trust the notebook. <br />On GitHub, the HTML representation is unable to render, please try loading this page with nbviewer.org.</b></div><div class=\"sk-container\" hidden><div class=\"sk-item\"><div class=\"sk-estimator sk-toggleable\"><input class=\"sk-toggleable__control sk-hidden--visually\" id=\"sk-estimator-id-1\" type=\"checkbox\" checked><label for=\"sk-estimator-id-1\" class=\"sk-toggleable__label sk-toggleable__label-arrow\">KNeighborsRegressor</label><div class=\"sk-toggleable__content\"><pre>KNeighborsRegressor()</pre></div></div></div></div></div>"
      ],
      "text/plain": [
       "KNeighborsRegressor()"
      ]
     },
     "execution_count": 82,
     "metadata": {},
     "output_type": "execute_result"
    }
   ],
   "source": [
    "from sklearn.neighbors import KNeighborsRegressor\n",
    "neigh = KNeighborsRegressor(n_neighbors=5)\n",
    "neigh.fit(X_train, y_train)"
   ]
  },
  {
   "cell_type": "code",
   "execution_count": 83,
   "id": "1dd32e66-5b84-4310-99d7-ae5ee5398c4f",
   "metadata": {
    "tags": []
   },
   "outputs": [
    {
     "data": {
      "text/plain": [
       "-0.17129367359633063"
      ]
     },
     "execution_count": 83,
     "metadata": {},
     "output_type": "execute_result"
    }
   ],
   "source": [
    "neigh.score(X_test,y_test)"
   ]
  },
  {
   "cell_type": "code",
   "execution_count": 86,
   "id": "f1d3d93c-2d99-48d9-9be6-e58cf026caeb",
   "metadata": {
    "tags": []
   },
   "outputs": [
    {
     "data": {
      "text/html": [
       "<style>#sk-container-id-2 {color: black;background-color: white;}#sk-container-id-2 pre{padding: 0;}#sk-container-id-2 div.sk-toggleable {background-color: white;}#sk-container-id-2 label.sk-toggleable__label {cursor: pointer;display: block;width: 100%;margin-bottom: 0;padding: 0.3em;box-sizing: border-box;text-align: center;}#sk-container-id-2 label.sk-toggleable__label-arrow:before {content: \"▸\";float: left;margin-right: 0.25em;color: #696969;}#sk-container-id-2 label.sk-toggleable__label-arrow:hover:before {color: black;}#sk-container-id-2 div.sk-estimator:hover label.sk-toggleable__label-arrow:before {color: black;}#sk-container-id-2 div.sk-toggleable__content {max-height: 0;max-width: 0;overflow: hidden;text-align: left;background-color: #f0f8ff;}#sk-container-id-2 div.sk-toggleable__content pre {margin: 0.2em;color: black;border-radius: 0.25em;background-color: #f0f8ff;}#sk-container-id-2 input.sk-toggleable__control:checked~div.sk-toggleable__content {max-height: 200px;max-width: 100%;overflow: auto;}#sk-container-id-2 input.sk-toggleable__control:checked~label.sk-toggleable__label-arrow:before {content: \"▾\";}#sk-container-id-2 div.sk-estimator input.sk-toggleable__control:checked~label.sk-toggleable__label {background-color: #d4ebff;}#sk-container-id-2 div.sk-label input.sk-toggleable__control:checked~label.sk-toggleable__label {background-color: #d4ebff;}#sk-container-id-2 input.sk-hidden--visually {border: 0;clip: rect(1px 1px 1px 1px);clip: rect(1px, 1px, 1px, 1px);height: 1px;margin: -1px;overflow: hidden;padding: 0;position: absolute;width: 1px;}#sk-container-id-2 div.sk-estimator {font-family: monospace;background-color: #f0f8ff;border: 1px dotted black;border-radius: 0.25em;box-sizing: border-box;margin-bottom: 0.5em;}#sk-container-id-2 div.sk-estimator:hover {background-color: #d4ebff;}#sk-container-id-2 div.sk-parallel-item::after {content: \"\";width: 100%;border-bottom: 1px solid gray;flex-grow: 1;}#sk-container-id-2 div.sk-label:hover label.sk-toggleable__label {background-color: #d4ebff;}#sk-container-id-2 div.sk-serial::before {content: \"\";position: absolute;border-left: 1px solid gray;box-sizing: border-box;top: 0;bottom: 0;left: 50%;z-index: 0;}#sk-container-id-2 div.sk-serial {display: flex;flex-direction: column;align-items: center;background-color: white;padding-right: 0.2em;padding-left: 0.2em;position: relative;}#sk-container-id-2 div.sk-item {position: relative;z-index: 1;}#sk-container-id-2 div.sk-parallel {display: flex;align-items: stretch;justify-content: center;background-color: white;position: relative;}#sk-container-id-2 div.sk-item::before, #sk-container-id-2 div.sk-parallel-item::before {content: \"\";position: absolute;border-left: 1px solid gray;box-sizing: border-box;top: 0;bottom: 0;left: 50%;z-index: -1;}#sk-container-id-2 div.sk-parallel-item {display: flex;flex-direction: column;z-index: 1;position: relative;background-color: white;}#sk-container-id-2 div.sk-parallel-item:first-child::after {align-self: flex-end;width: 50%;}#sk-container-id-2 div.sk-parallel-item:last-child::after {align-self: flex-start;width: 50%;}#sk-container-id-2 div.sk-parallel-item:only-child::after {width: 0;}#sk-container-id-2 div.sk-dashed-wrapped {border: 1px dashed gray;margin: 0 0.4em 0.5em 0.4em;box-sizing: border-box;padding-bottom: 0.4em;background-color: white;}#sk-container-id-2 div.sk-label label {font-family: monospace;font-weight: bold;display: inline-block;line-height: 1.2em;}#sk-container-id-2 div.sk-label-container {text-align: center;}#sk-container-id-2 div.sk-container {/* jupyter's `normalize.less` sets `[hidden] { display: none; }` but bootstrap.min.css set `[hidden] { display: none !important; }` so we also need the `!important` here to be able to override the default hidden behavior on the sphinx rendered scikit-learn.org. See: https://github.com/scikit-learn/scikit-learn/issues/21755 */display: inline-block !important;position: relative;}#sk-container-id-2 div.sk-text-repr-fallback {display: none;}</style><div id=\"sk-container-id-2\" class=\"sk-top-container\"><div class=\"sk-text-repr-fallback\"><pre>DecisionTreeRegressor(random_state=0)</pre><b>In a Jupyter environment, please rerun this cell to show the HTML representation or trust the notebook. <br />On GitHub, the HTML representation is unable to render, please try loading this page with nbviewer.org.</b></div><div class=\"sk-container\" hidden><div class=\"sk-item\"><div class=\"sk-estimator sk-toggleable\"><input class=\"sk-toggleable__control sk-hidden--visually\" id=\"sk-estimator-id-2\" type=\"checkbox\" checked><label for=\"sk-estimator-id-2\" class=\"sk-toggleable__label sk-toggleable__label-arrow\">DecisionTreeRegressor</label><div class=\"sk-toggleable__content\"><pre>DecisionTreeRegressor(random_state=0)</pre></div></div></div></div></div>"
      ],
      "text/plain": [
       "DecisionTreeRegressor(random_state=0)"
      ]
     },
     "execution_count": 86,
     "metadata": {},
     "output_type": "execute_result"
    }
   ],
   "source": [
    "from sklearn.tree import DecisionTreeRegressor\n",
    "regressor = DecisionTreeRegressor(random_state=0)\n",
    "regressor.fit(X_train, y_train)"
   ]
  },
  {
   "cell_type": "code",
   "execution_count": 87,
   "id": "ece7ebd6-7bbe-457d-b5f5-9da0f11825b6",
   "metadata": {
    "tags": []
   },
   "outputs": [
    {
     "data": {
      "text/plain": [
       "1.0"
      ]
     },
     "execution_count": 87,
     "metadata": {},
     "output_type": "execute_result"
    }
   ],
   "source": [
    "regressor.score(X_test,y_test)"
   ]
  },
  {
   "cell_type": "code",
   "execution_count": 88,
   "id": "7e62677e-8112-4c1a-ae36-c2aec117a7db",
   "metadata": {
    "tags": []
   },
   "outputs": [],
   "source": [
    "import time"
   ]
  },
  {
   "cell_type": "code",
   "execution_count": 89,
   "id": "fd478acd-a328-44a1-8897-e5bd28d76574",
   "metadata": {
    "tags": []
   },
   "outputs": [],
   "source": [
    "from sklearn.ensemble import RandomForestRegressor\n",
    "l1 = []\n",
    "l2 = []\n",
    "for i in range(2,15):\n",
    "    start = time.time()\n",
    "    regr = RandomForestRegressor(max_depth=i, random_state=0)\n",
    "    regr.fit(X_train, y_train)\n",
    "    end = time.time()\n",
    "    l1.append(regr.score(X_test, y_test))\n",
    "    l2.append(end-start)"
   ]
  },
  {
   "cell_type": "code",
   "execution_count": 90,
   "id": "4d4b556c-7d0b-450d-b929-8cbe212a8257",
   "metadata": {
    "tags": []
   },
   "outputs": [
    {
     "name": "stdout",
     "output_type": "stream",
     "text": [
      "[1.0, 1.0, 1.0, 1.0, 1.0, 1.0, 1.0, 1.0, 1.0, 1.0, 1.0, 1.0, 1.0]\n",
      "[1.677595615386963, 1.683474063873291, 1.8522288799285889, 1.955554485321045, 1.9183123111724854, 1.8223209381103516, 1.9482612609863281, 1.9803180694580078, 1.953490972518921, 2.071791648864746, 1.880763292312622, 1.779085397720337, 1.6117157936096191]\n"
     ]
    }
   ],
   "source": [
    "print(l1)\n",
    "print(l2)"
   ]
  },
  {
   "cell_type": "code",
   "execution_count": 91,
   "id": "1557d1c1-2795-4f59-9b3c-6ad91db78844",
   "metadata": {
    "tags": []
   },
   "outputs": [
    {
     "data": {
      "image/png": "[encoded data removed]",
      "text/plain": [
       "<Figure size 432x288 with 1 Axes>"
      ]
     },
     "metadata": {
      "needs_background": "light"
     },
     "output_type": "display_data"
    }
   ],
   "source": [
    "l3 = []\n",
    "for i in range(1,len(l1)):\n",
    "    l3.append(l1[i] - l1[i-1])\n",
    "plt.scatter(l2[1:], l3, color = 'red')\n",
    "plt.plot(l2[1:],l3)\n",
    "plt.xlabel('time')\n",
    "plt.ylabel('difference in score')\n",
    "plt.show()"
   ]
  },
  {
   "cell_type": "code",
   "execution_count": 92,
   "id": "a0ffa107-8651-4549-9cae-4576b9e3c26c",
   "metadata": {
    "tags": []
   },
   "outputs": [
    {
     "data": {
      "text/html": [
       "<style>#sk-container-id-3 {color: black;background-color: white;}#sk-container-id-3 pre{padding: 0;}#sk-container-id-3 div.sk-toggleable {background-color: white;}#sk-container-id-3 label.sk-toggleable__label {cursor: pointer;display: block;width: 100%;margin-bottom: 0;padding: 0.3em;box-sizing: border-box;text-align: center;}#sk-container-id-3 label.sk-toggleable__label-arrow:before {content: \"▸\";float: left;margin-right: 0.25em;color: #696969;}#sk-container-id-3 label.sk-toggleable__label-arrow:hover:before {color: black;}#sk-container-id-3 div.sk-estimator:hover label.sk-toggleable__label-arrow:before {color: black;}#sk-container-id-3 div.sk-toggleable__content {max-height: 0;max-width: 0;overflow: hidden;text-align: left;background-color: #f0f8ff;}#sk-container-id-3 div.sk-toggleable__content pre {margin: 0.2em;color: black;border-radius: 0.25em;background-color: #f0f8ff;}#sk-container-id-3 input.sk-toggleable__control:checked~div.sk-toggleable__content {max-height: 200px;max-width: 100%;overflow: auto;}#sk-container-id-3 input.sk-toggleable__control:checked~label.sk-toggleable__label-arrow:before {content: \"▾\";}#sk-container-id-3 div.sk-estimator input.sk-toggleable__control:checked~label.sk-toggleable__label {background-color: #d4ebff;}#sk-container-id-3 div.sk-label input.sk-toggleable__control:checked~label.sk-toggleable__label {background-color: #d4ebff;}#sk-container-id-3 input.sk-hidden--visually {border: 0;clip: rect(1px 1px 1px 1px);clip: rect(1px, 1px, 1px, 1px);height: 1px;margin: -1px;overflow: hidden;padding: 0;position: absolute;width: 1px;}#sk-container-id-3 div.sk-estimator {font-family: monospace;background-color: #f0f8ff;border: 1px dotted black;border-radius: 0.25em;box-sizing: border-box;margin-bottom: 0.5em;}#sk-container-id-3 div.sk-estimator:hover {background-color: #d4ebff;}#sk-container-id-3 div.sk-parallel-item::after {content: \"\";width: 100%;border-bottom: 1px solid gray;flex-grow: 1;}#sk-container-id-3 div.sk-label:hover label.sk-toggleable__label {background-color: #d4ebff;}#sk-container-id-3 div.sk-serial::before {content: \"\";position: absolute;border-left: 1px solid gray;box-sizing: border-box;top: 0;bottom: 0;left: 50%;z-index: 0;}#sk-container-id-3 div.sk-serial {display: flex;flex-direction: column;align-items: center;background-color: white;padding-right: 0.2em;padding-left: 0.2em;position: relative;}#sk-container-id-3 div.sk-item {position: relative;z-index: 1;}#sk-container-id-3 div.sk-parallel {display: flex;align-items: stretch;justify-content: center;background-color: white;position: relative;}#sk-container-id-3 div.sk-item::before, #sk-container-id-3 div.sk-parallel-item::before {content: \"\";position: absolute;border-left: 1px solid gray;box-sizing: border-box;top: 0;bottom: 0;left: 50%;z-index: -1;}#sk-container-id-3 div.sk-parallel-item {display: flex;flex-direction: column;z-index: 1;position: relative;background-color: white;}#sk-container-id-3 div.sk-parallel-item:first-child::after {align-self: flex-end;width: 50%;}#sk-container-id-3 div.sk-parallel-item:last-child::after {align-self: flex-start;width: 50%;}#sk-container-id-3 div.sk-parallel-item:only-child::after {width: 0;}#sk-container-id-3 div.sk-dashed-wrapped {border: 1px dashed gray;margin: 0 0.4em 0.5em 0.4em;box-sizing: border-box;padding-bottom: 0.4em;background-color: white;}#sk-container-id-3 div.sk-label label {font-family: monospace;font-weight: bold;display: inline-block;line-height: 1.2em;}#sk-container-id-3 div.sk-label-container {text-align: center;}#sk-container-id-3 div.sk-container {/* jupyter's `normalize.less` sets `[hidden] { display: none; }` but bootstrap.min.css set `[hidden] { display: none !important; }` so we also need the `!important` here to be able to override the default hidden behavior on the sphinx rendered scikit-learn.org. See: https://github.com/scikit-learn/scikit-learn/issues/21755 */display: inline-block !important;position: relative;}#sk-container-id-3 div.sk-text-repr-fallback {display: none;}</style><div id=\"sk-container-id-3\" class=\"sk-top-container\"><div class=\"sk-text-repr-fallback\"><pre>MLPRegressor(max_iter=500, random_state=1)</pre><b>In a Jupyter environment, please rerun this cell to show the HTML representation or trust the notebook. <br />On GitHub, the HTML representation is unable to render, please try loading this page with nbviewer.org.</b></div><div class=\"sk-container\" hidden><div class=\"sk-item\"><div class=\"sk-estimator sk-toggleable\"><input class=\"sk-toggleable__control sk-hidden--visually\" id=\"sk-estimator-id-3\" type=\"checkbox\" checked><label for=\"sk-estimator-id-3\" class=\"sk-toggleable__label sk-toggleable__label-arrow\">MLPRegressor</label><div class=\"sk-toggleable__content\"><pre>MLPRegressor(max_iter=500, random_state=1)</pre></div></div></div></div></div>"
      ],
      "text/plain": [
       "MLPRegressor(max_iter=500, random_state=1)"
      ]
     },
     "execution_count": 92,
     "metadata": {},
     "output_type": "execute_result"
    }
   ],
   "source": [
    "from sklearn.neural_network import MLPRegressor\n",
    "regr = MLPRegressor(random_state=1, max_iter=500)\n",
    "regr.fit(X_train, y_train)"
   ]
  },
  {
   "cell_type": "code",
   "execution_count": 93,
   "id": "a6eed22f-ea52-4ab1-b6d2-d4ad3a9b2d7d",
   "metadata": {
    "tags": []
   },
   "outputs": [
    {
     "data": {
      "text/plain": [
       "-870.5273634193458"
      ]
     },
     "execution_count": 93,
     "metadata": {},
     "output_type": "execute_result"
    }
   ],
   "source": [
    "regr.score(X_train, y_train)"
   ]
  },
  {
   "cell_type": "code",
   "execution_count": 94,
   "id": "1b254519-3dd6-4a23-b37e-59976334a981",
   "metadata": {
    "tags": []
   },
   "outputs": [
    {
     "data": {
      "text/plain": [
       "-2320.9669375171507"
      ]
     },
     "execution_count": 94,
     "metadata": {},
     "output_type": "execute_result"
    }
   ],
   "source": [
    "regr.score(X_test, y_test)"
   ]
  },
  {
   "cell_type": "code",
   "execution_count": null,
   "id": "ea465033-afd0-45c3-9042-a27be6b42eb7",
   "metadata": {},
   "outputs": [],
   "source": []
  }
 ],
 "metadata": {
  "kernelspec": {
   "display_name": "Python 3 (ipykernel)",
   "language": "python",
   "name": "python3"
  },
  "language_info": {
   "codemirror_mode": {
    "name": "ipython",
    "version": 3
   },
   "file_extension": ".py",
   "mimetype": "text/x-python",
   "name": "python",
   "nbconvert_exporter": "python",
   "pygments_lexer": "ipython3",
   "version": "3.10.6"
  }
 },
 "nbformat": 4,
 "nbformat_minor": 5
}
